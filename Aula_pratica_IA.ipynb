{
  "nbformat": 4,
  "nbformat_minor": 0,
  "metadata": {
    "colab": {
      "provenance": [],
      "authorship_tag": "ABX9TyMPLQJzaUdINzBe1FptqNTu",
      "include_colab_link": true
    },
    "kernelspec": {
      "name": "python3",
      "display_name": "Python 3"
    },
    "language_info": {
      "name": "python"
    }
  },
  "cells": [
    {
      "cell_type": "markdown",
      "metadata": {
        "id": "view-in-github",
        "colab_type": "text"
      },
      "source": [
        "<a href=\"https://colab.research.google.com/github/Matheus256/Capacitacao_IA_Softex/blob/main/Aula_pratica_IA.ipynb\" target=\"_parent\"><img src=\"https://colab.research.google.com/assets/colab-badge.svg\" alt=\"Open In Colab\"/></a>"
      ]
    },
    {
      "cell_type": "code",
      "execution_count": null,
      "metadata": {
        "id": "yKfaQCMpO6HX"
      },
      "outputs": [],
      "source": [
        "import pandas as pd\n",
        "from seaborn import load_dataset\n",
        "\n",
        "df = load_dataset('penguins')"
      ]
    },
    {
      "cell_type": "code",
      "source": [
        "#Consulta caracteristicas do dataset\n",
        "\n",
        "df.info()\n",
        "df.shape\n",
        "df.describe()"
      ],
      "metadata": {
        "id": "rqLr_SwHTj61"
      },
      "execution_count": null,
      "outputs": []
    },
    {
      "cell_type": "code",
      "source": [
        "#Remove as linhas com dados incompletos NaN\n",
        "\n",
        "df=df.dropna()"
      ],
      "metadata": {
        "id": "Y6vkmU6pUYr-"
      },
      "execution_count": null,
      "outputs": []
    },
    {
      "cell_type": "markdown",
      "source": [
        "### OneHotEncoder"
      ],
      "metadata": {
        "id": "Jo_MRUvGnyVu"
      }
    },
    {
      "cell_type": "code",
      "source": [
        "#Transformação dos atributos categoricos\n",
        "\n",
        "from sklearn.preprocessing import OneHotEncoder\n",
        "from sklearn.compose import make_column_transformer\n",
        "\n",
        "column_transformer = make_column_transformer((OneHotEncoder(), ['island', 'sex']), remainder='passthrough')\n",
        "\n",
        "df=column_transformer.fit_transform(df)\n",
        "\n",
        "df=pd.DataFrame(data=df)"
      ],
      "metadata": {
        "id": "IhOAps7NZXP_"
      },
      "execution_count": null,
      "outputs": []
    },
    {
      "cell_type": "markdown",
      "source": [
        "### LabelEncoder"
      ],
      "metadata": {
        "id": "QtBRLTi0nlPt"
      }
    },
    {
      "cell_type": "code",
      "source": [
        "#Codificar a linha de saída (LabelEncoder)\n",
        "\n",
        "from sklearn import preprocessing\n",
        "\n",
        "label_encoder= preprocessing.LabelEncoder()\n",
        "\n",
        "df[5]=label_encoder.fit_transform(df[5])"
      ],
      "metadata": {
        "id": "jBmPBoi3eesH"
      },
      "execution_count": null,
      "outputs": []
    },
    {
      "cell_type": "code",
      "source": [
        "y=df[5]\n",
        "\n",
        "X=df.drop(5, axis=1)"
      ],
      "metadata": {
        "id": "v6oylSwYngCO"
      },
      "execution_count": null,
      "outputs": []
    },
    {
      "cell_type": "markdown",
      "source": [
        "### Separando os dados de treinamento e de teste"
      ],
      "metadata": {
        "id": "9iLiEYOmpgdZ"
      }
    },
    {
      "cell_type": "code",
      "source": [
        "from sklearn.model_selection import train_test_split\n",
        "\n",
        "X_train, X_test, y_train, y_test = train_test_split(X, y, test_size=0.2, random_state=None, stratify=y) #80% treino e 20% teste"
      ],
      "metadata": {
        "id": "spWqtKQvplRZ"
      },
      "execution_count": null,
      "outputs": []
    },
    {
      "cell_type": "markdown",
      "source": [
        "### Treinamento dos modelos"
      ],
      "metadata": {
        "id": "Yyb7Fo5ivxNW"
      }
    },
    {
      "cell_type": "code",
      "source": [
        "from sklearn.neighbors import KNeighborsClassifier\n",
        "from sklearn.tree import DecisionTreeClassifier\n",
        "\n",
        "modelo_1=DecisionTreeClassifier(criterion='entropy')\n",
        "modelo_2=KNeighborsClassifier(n_neighbors=9, metric='euclidean', algorithm='brute')\n",
        "modelo_3=DecisionTreeClassifier(criterion='entropy',max_depth=1)\n",
        "\n",
        "modelo_1.fit(X_train, y_train)\n",
        "modelo_2.fit(X_train, y_train)\n",
        "modelo_3.fit(X_train, y_train)"
      ],
      "metadata": {
        "id": "0Ffxk3ZhsafH"
      },
      "execution_count": null,
      "outputs": []
    },
    {
      "cell_type": "markdown",
      "source": [
        "### Predições e resultados"
      ],
      "metadata": {
        "id": "_-CyhisIwDwK"
      }
    },
    {
      "cell_type": "code",
      "source": [
        "from sklearn import metrics\n",
        "\n",
        "resultado_1=modelo_1.predict(X_test)\n",
        "resultado_2=modelo_2.predict(X_test)\n",
        "resultado_3=modelo_3.predict(X_test)\n",
        "\n",
        "resultados=[]\n",
        "\n",
        "acc_1=metrics.accuracy_score(resultado_1, y_test)\n",
        "resultados.append(round(acc_1*100))\n",
        "\n",
        "acc_2=metrics.accuracy_score(resultado_2, y_test)\n",
        "resultados.append(round(acc_2*100))\n",
        "\n",
        "acc_3=metrics.accuracy_score(resultado_3, y_test)\n",
        "resultados.append(round(acc_3*100))\n",
        "\n",
        "print(\"{}%  {}%  {}%\".format(resultados[0], resultados[1], resultados[2]))"
      ],
      "metadata": {
        "colab": {
          "base_uri": "https://localhost:8080/"
        },
        "id": "g2L_SfEQwHMr",
        "outputId": "b3063ff9-f4c3-4b84-b399-30c47aea3cfd"
      },
      "execution_count": null,
      "outputs": [
        {
          "output_type": "stream",
          "name": "stdout",
          "text": [
            "93%  79%  78%\n"
          ]
        }
      ]
    }
  ]
}