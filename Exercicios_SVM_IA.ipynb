{
  "nbformat": 4,
  "nbformat_minor": 0,
  "metadata": {
    "colab": {
      "provenance": [],
      "authorship_tag": "ABX9TyOcCvL+oMk1G61zesGK1Iv6"
    },
    "kernelspec": {
      "name": "python3",
      "display_name": "Python 3"
    },
    "language_info": {
      "name": "python"
    }
  },
  "cells": [
    {
      "cell_type": "markdown",
      "source": [
        "### Dataset de Classificação"
      ],
      "metadata": {
        "id": "LHb5ku3LhElC"
      }
    },
    {
      "cell_type": "code",
      "execution_count": null,
      "metadata": {
        "id": "w2F_vYlSgiJl"
      },
      "outputs": [],
      "source": [
        "# 1) Carregar o dataset através do url abaixo:\n",
        "\n",
        "#url = \"https://raw.githubusercontent.com/intro-stat-learning/ISLP/main/ISLP/data/OJ.csv\"\n",
        "\n",
        "# 2) Fazer o One-Hot Encoder na coluna: \"Store7\"\n",
        "# 3) O target é a coluna: \"Purchase\", ela é categórica e deve virar numérica via LabelEncoder\n",
        "# 4) Normalizar todas as features\n",
        "# 5) Dividir os dados em treinamento e teste usando o \"train-test-split\"\n",
        "# 6) Treinar um SVC\n",
        "# 7) Variar os parâmetros do SVC até encontrar uma boa combinação:\n",
        "\n",
        "# Parâmetros default:\n",
        "\n",
        "# C=1.0\n",
        "# kernel{‘linear’, ‘poly’, ‘rbf’, ‘sigmoid’, ‘precomputed’} or callable, default=’rbf’\n",
        "# degree=3 (usado com kernel polinomial)\n",
        "\n",
        "# 8) Fazer o predict e mostrar o resultado da taxa de acerto em percentual"
      ]
    },
    {
      "cell_type": "code",
      "source": [
        "import pandas as pd\n",
        "from sklearn.preprocessing import LabelEncoder, OneHotEncoder, MinMaxScaler\n",
        "from sklearn.compose import make_column_transformer\n",
        "\n",
        "url=\"https://raw.githubusercontent.com/intro-stat-learning/ISLP/main/ISLP/data/OJ.csv\"\n",
        "\n",
        "# 1)\n",
        "dataset=pd.read_csv(url, header=None, skiprows=1)\n",
        "\n",
        "# 2)\n",
        "col_transformacao = make_column_transformer((OneHotEncoder(), [13]), remainder='passthrough')\n",
        "dataset = col_transformacao.fit_transform(dataset)\n",
        "dataset=pd.DataFrame(data=dataset)\n",
        "\n",
        "# 3)\n",
        "y=dataset[2]\n",
        "y=LabelEncoder().fit_transform(y)\n",
        "\n",
        "X=dataset.drop(2, axis=1)\n",
        "\n",
        "# 4)\n",
        "df=X.values\n",
        "x_scale=MinMaxScaler().fit_transform(df)\n",
        "X=pd.DataFrame(data=x_scale)\n"
      ],
      "metadata": {
        "id": "w5Nv2xLhhTA2"
      },
      "execution_count": null,
      "outputs": []
    },
    {
      "cell_type": "code",
      "source": [
        "from sklearn.model_selection import train_test_split\n",
        "from sklearn.svm import SVC\n",
        "from sklearn import metrics\n",
        "\n",
        "for i in range (10):\n",
        "  # 5)\n",
        "  X_treino, X_teste, y_treino, y_teste = train_test_split(X, y, test_size=0.2, stratify=y)\n",
        "\n",
        "  # 6)\n",
        "  modeloSVC=SVC(kernel='linear',C=1000)\n",
        "  modeloSVC.fit(X_treino, y_treino)\n",
        "\n",
        "  # 8)\n",
        "  resultados=modeloSVC.predict(X_teste)\n",
        "  percentual=round(100*(metrics.accuracy_score(resultados,y_teste)))\n",
        "  print(\"{}% de acertos do SVC na {}º tentativa\".format(percentual,i+1))"
      ],
      "metadata": {
        "colab": {
          "base_uri": "https://localhost:8080/"
        },
        "id": "nVRmf-zMspsO",
        "outputId": "b296b3fb-2949-4300-fcf8-66e849f0e45a"
      },
      "execution_count": null,
      "outputs": [
        {
          "output_type": "stream",
          "name": "stdout",
          "text": [
            "85% de acertos do SVC na 1º tentativa\n",
            "83% de acertos do SVC na 2º tentativa\n",
            "82% de acertos do SVC na 3º tentativa\n",
            "84% de acertos do SVC na 4º tentativa\n",
            "83% de acertos do SVC na 5º tentativa\n",
            "83% de acertos do SVC na 6º tentativa\n",
            "87% de acertos do SVC na 7º tentativa\n",
            "80% de acertos do SVC na 8º tentativa\n",
            "82% de acertos do SVC na 9º tentativa\n",
            "86% de acertos do SVC na 10º tentativa\n"
          ]
        }
      ]
    }
  ]
}