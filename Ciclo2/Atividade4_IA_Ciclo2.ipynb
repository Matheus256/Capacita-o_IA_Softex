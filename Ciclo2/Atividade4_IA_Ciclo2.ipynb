{
  "nbformat": 4,
  "nbformat_minor": 0,
  "metadata": {
    "colab": {
      "provenance": []
    },
    "kernelspec": {
      "name": "python3",
      "display_name": "Python 3"
    },
    "language_info": {
      "name": "python"
    }
  },
  "cells": [
    {
      "cell_type": "code",
      "execution_count": null,
      "metadata": {
        "id": "gyZJR6oA5Of4",
        "outputId": "a12e10b3-7fad-46be-d919-9368e4d1ec27",
        "colab": {
          "base_uri": "https://localhost:8080/"
        }
      },
      "outputs": [
        {
          "output_type": "stream",
          "name": "stdout",
          "text": [
            "Collecting deslib\n",
            "  Downloading DESlib-0.3.7-py3-none-any.whl (172 kB)\n",
            "\u001b[2K     \u001b[90m━━━━━━━━━━━━━━━━━━━━━━━━━━━━━━━━━━━━━━━━\u001b[0m \u001b[32m172.6/172.6 kB\u001b[0m \u001b[31m2.0 MB/s\u001b[0m eta \u001b[36m0:00:00\u001b[0m\n",
            "\u001b[?25hRequirement already satisfied: scikit-learn>=1.0.2 in /usr/local/lib/python3.10/dist-packages (from deslib) (1.2.2)\n",
            "Requirement already satisfied: numpy>=1.17.0 in /usr/local/lib/python3.10/dist-packages (from deslib) (1.25.2)\n",
            "Requirement already satisfied: scipy>=1.4.0 in /usr/local/lib/python3.10/dist-packages (from deslib) (1.11.4)\n",
            "Requirement already satisfied: joblib>=1.1.1 in /usr/local/lib/python3.10/dist-packages (from scikit-learn>=1.0.2->deslib) (1.4.0)\n",
            "Requirement already satisfied: threadpoolctl>=2.0.0 in /usr/local/lib/python3.10/dist-packages (from scikit-learn>=1.0.2->deslib) (3.4.0)\n",
            "Installing collected packages: deslib\n",
            "Successfully installed deslib-0.3.7\n"
          ]
        }
      ],
      "source": [
        "!pip install deslib"
      ]
    },
    {
      "cell_type": "code",
      "source": [
        "from sklearn.tree import DecisionTreeClassifier\n",
        "from sklearn.model_selection import train_test_split\n",
        "from sklearn import metrics\n",
        "from sklearn.metrics import confusion_matrix\n",
        "import pandas as pd\n",
        "import numpy as np\n",
        "from deslib.dcs import OLA\n",
        "from deslib.dcs import LCA\n",
        "from deslib.dcs import MCB\n",
        "from deslib.des import KNORAE\n",
        "from deslib.des import KNORAU\n",
        "from sklearn.ensemble import BaggingClassifier\n",
        "\n",
        "from sklearn.ensemble import RandomForestClassifier\n",
        "\n",
        "url = \"https://raw.githubusercontent.com/tmoura/machinelearning/master/datasets/ionosphere.data\"\n",
        "\n",
        "# Carregar base de dados\n",
        "# DataFrame\n",
        "dataset = pd.read_csv(url, header=None)\n",
        "\n",
        "columns = len(dataset.columns)\n",
        "\n",
        "y = dataset[0] # extrai a primeira coluna, que é o label\n",
        "X = dataset.loc[:,1:columns-1]\n",
        "\n",
        "# Transforma para Array NumPy\n",
        "X = np.array(X)\n",
        "y = np.array(y)"
      ],
      "metadata": {
        "id": "HMndtF92hIK6"
      },
      "execution_count": null,
      "outputs": []
    },
    {
      "cell_type": "code",
      "source": [
        "# 1) Usar o dataset gerado na célula acima para criar 10 folds estratificados de Treinamento e Teste\n",
        "from sklearn.model_selection import StratifiedKFold\n",
        "\n",
        "#Quantidade de folds\n",
        "folds = 10\n",
        "\n",
        "kf = StratifiedKFold(n_splits = folds)\n",
        "\n",
        "#Listas para as estratificações de treinamento e de teste\n",
        "X_train = []\n",
        "y_train = []\n",
        "\n",
        "X_test = []\n",
        "y_test = []\n",
        "\n",
        "#Gerando as estratificações\n",
        "for train_index, test_index in kf.split(X,y):\n",
        "  X_train.append(X[train_index])\n",
        "  X_test.append(X[test_index])\n",
        "\n",
        "  y_train.append(y[train_index])\n",
        "  y_test.append(y[test_index])"
      ],
      "metadata": {
        "id": "tMTEOim8PJLA"
      },
      "execution_count": null,
      "outputs": []
    },
    {
      "cell_type": "code",
      "source": [
        "# 2) Treinar 10 Árvores de Decisão e 10 RandomForest (com 50 árvores) utilizando os conjuntos de Treinamentos gerados na célula anterior\n",
        "# 3) Calcular os 10 resultados das acurácias nos 10 conjuntos de Teste\n",
        "# 4) Printar o resultado da média das 10 acurácias para as Árvores e os RandomForest\n",
        "\n",
        "tree_results = []\n",
        "randomforest_results = []\n",
        "\n",
        "for i in range(folds):\n",
        "  #Instancia dos modelos\n",
        "  tree = DecisionTreeClassifier(criterion=\"entropy\", max_depth=8)\n",
        "  randomforest = RandomForestClassifier(n_estimators=50)\n",
        "\n",
        "  #Treinamento dos modelos\n",
        "  tree.fit(X_train[i], y_train[i])\n",
        "  randomforest.fit(X_train[i], y_train[i])\n",
        "\n",
        "  #Acurácia dos modelos\n",
        "  tree_results.append(tree.score(X_test[i],y_test[i]))\n",
        "  randomforest_results.append(randomforest.score(X_test[i], y_test[i]))\n",
        "\n",
        "print(\"RESULTADOS: \")\n",
        "print(f\"Média das acurácias das Árvores de Decisão {np.mean(tree_results)}\")\n",
        "print(f\"Média das acurácias das Florestas Aleatórias {np.mean(randomforest_results)}\")"
      ],
      "metadata": {
        "id": "p_cWYRvOiJop",
        "outputId": "d09bd6a7-890e-4548-fe1b-e76991bf7dbd",
        "colab": {
          "base_uri": "https://localhost:8080/"
        }
      },
      "execution_count": null,
      "outputs": [
        {
          "output_type": "stream",
          "name": "stdout",
          "text": [
            "RESULTADOS: \n",
            "Média das acurácias das Árvores de Decisão 0.8775396825396825\n",
            "Média das acurácias das Florestas Aleatórias 0.9087301587301587\n"
          ]
        }
      ]
    },
    {
      "cell_type": "code",
      "source": [
        "# 5) Treinar:\n",
        "  # 10 Modelos Bagging (com 50 árvores) - O Bagging do SkLearn já utiliza Árvores de Decisão como modelo padrão do Ensemble\n",
        "  # 10 KNORA-U\n",
        "  # 10 KNORA-E\n",
        "  # 10 LCA\n",
        "  # 10 OLA\n",
        "  # 10 MCB\n",
        "\n",
        "  # Usar nos modelos de seleção dinâmica as árvores geradas pelo Bagging\n",
        "\n",
        "# 6) Calcular os 10 resultados das acurácias nos 10 conjuntos de Teste para todos os modelos\n",
        "# 7) Printar o resultado da média das 10 acurácias para todos os modelos\n",
        "\n",
        "bagging_results = []\n",
        "knorae_results = []\n",
        "knorau_results = []\n",
        "ola_results = []\n",
        "lca_results = []\n",
        "mcb_results = []\n",
        "\n",
        "for i in range(folds):\n",
        "  #Instancia do Bagging, treino e resultados com 50 arvores\n",
        "  bagging = BaggingClassifier(n_estimators = 50)\n",
        "  bagging.fit(X_train[i], y_train[i])\n",
        "  bagging_results.append(bagging.score(X_test[i], y_test[i]))\n",
        "\n",
        "  #Separação dos dados para treinos\n",
        "  train_X, X_dsel, train_y , y_dsel = train_test_split(X_train[i], y_train[i], test_size = 0.5, random_state = None)\n",
        "\n",
        "\n",
        "  knorae = KNORAE(bagging, k=5)\n",
        "  knorau = KNORAU(bagging, k=5)\n",
        "  ola = OLA(bagging, k=5)\n",
        "  lca = LCA(bagging, k=5)\n",
        "  mcb = MCB(bagging, k=5)\n",
        "\n",
        "  knorae.fit(X_dsel, y_dsel)\n",
        "  knorau.fit(X_dsel, y_dsel)\n",
        "  ola.fit(X_dsel, y_dsel)\n",
        "  lca.fit(X_dsel, y_dsel)\n",
        "  mcb.fit(X_dsel, y_dsel)\n",
        "\n",
        "  knorae_results.append(knorae.score(X_test[i], y_test[i]))\n",
        "  knorau_results.append(knorau.score(X_test[i], y_test[i]))\n",
        "  ola_results.append(ola.score(X_test[i], y_test[i]))\n",
        "  lca_results.append(lca.score(X_test[i], y_test[i]))\n",
        "  mcb_results.append(mcb.score(X_test[i], y_test[i]))\n",
        "\n",
        "print(\"RESULTADOS:\")\n",
        "print(f\"Média das acurácias dos Bagging's: {np.mean(bagging_results)}\")\n",
        "print(f\"Média das acurácias dos KNORA-E's: {np.mean(knorae_results)}\")\n",
        "print(f\"Média das acurácias dos KNORA-U's: {np.mean(knorau_results)}\")\n",
        "print(f\"Médias das acurácias dos OLA's: {np.mean(ola_results)}\")\n",
        "print(f\"Médias das acurácias dos LCA's: {np.mean(lca_results)}\")\n",
        "print(f\"Médias das acurácias dos MCB's: {np.mean(mcb_results)}\")"
      ],
      "metadata": {
        "id": "hJiBkaitzF0q",
        "colab": {
          "base_uri": "https://localhost:8080/"
        },
        "outputId": "341b887e-986d-4ac6-ac5f-f78f61747812"
      },
      "execution_count": null,
      "outputs": [
        {
          "output_type": "stream",
          "name": "stdout",
          "text": [
            "RESULTADOS:\n",
            "Média das acurácias dos Bagging's: 0.8974603174603175\n",
            "Média das acurácias dos KNORA-E's: 0.8974603174603175\n",
            "Média das acurácias dos KNORA-U's: 0.8974603174603175\n",
            "Médias das acurácias dos OLA's: 0.9003174603174603\n",
            "Médias das acurácias dos LCA's: 0.9173809523809524\n",
            "Médias das acurácias dos MCB's: 0.8773015873015874\n"
          ]
        }
      ]
    }
  ]
}