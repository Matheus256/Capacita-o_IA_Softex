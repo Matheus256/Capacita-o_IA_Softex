{
  "nbformat": 4,
  "nbformat_minor": 0,
  "metadata": {
    "colab": {
      "provenance": [],
      "authorship_tag": "ABX9TyNmRjv25qU571xTR9JzYEU5"
    },
    "kernelspec": {
      "name": "python3",
      "display_name": "Python 3"
    },
    "language_info": {
      "name": "python"
    }
  },
  "cells": [
    {
      "cell_type": "markdown",
      "source": [
        "### Exercício 1 - Problema do XOR"
      ],
      "metadata": {
        "id": "zobpk3RQaDJF"
      }
    },
    {
      "cell_type": "code",
      "execution_count": null,
      "metadata": {
        "id": "dtGormd5Zeyq"
      },
      "outputs": [],
      "source": [
        "import numpy as np\n",
        "\n",
        "x = np.array([[0, 0], [0, 1], [1, 0], [1, 1]])\n",
        "y = np.array([0, 1, 1, 0])\n",
        "\n",
        "# 1- Importar o modelo MLP do sklearn\n",
        "# 2- Instanciar o modelo escolhendo uma topologia para a rede, função de ativação e número de épocas de execução até 100% de acerto\n",
        "# 3- Treinar o modelo com os dados de treinamento\n",
        "# 4- Fazer o predict com os dados de treinamento\n",
        "# 5- Comparar o resultado do predict com o vetor y"
      ]
    },
    {
      "cell_type": "code",
      "source": [
        "#Resposta de 1-\n",
        "from sklearn.neural_network import MLPClassifier\n",
        "\n",
        "#Resposta de 2-\n",
        "modelo=MLPClassifier(activation='tanh', hidden_layer_sizes=(3,2), max_iter=2500)\n",
        "\n",
        "#Resposta de 3-\n",
        "modelo.fit(x,y)\n",
        "\n",
        "#Resposta de 4-\n",
        "resultados=modelo.predict(x)\n",
        "\n",
        "#Resposta de 5-\n",
        "from sklearn import metrics\n",
        "acertos=metrics.accuracy_score(resultados,y)\n",
        "porcentagem=round(acertos*100)\n",
        "print(\"{}%\".format(porcentagem))\n",
        "\n",
        "print(resultados)\n",
        "print(y)"
      ],
      "metadata": {
        "colab": {
          "base_uri": "https://localhost:8080/"
        },
        "id": "L_iQzXOwaSSx",
        "outputId": "e3e47efe-e9f6-4dff-9245-6372f26b1cc3"
      },
      "execution_count": null,
      "outputs": [
        {
          "output_type": "stream",
          "name": "stdout",
          "text": [
            "100%\n",
            "[0 1 1 0]\n",
            "[0 1 1 0]\n"
          ]
        }
      ]
    },
    {
      "cell_type": "markdown",
      "source": [
        "### Exercício 2 - Dataset Parkinsons"
      ],
      "metadata": {
        "id": "InKLnFaTcQnE"
      }
    },
    {
      "cell_type": "code",
      "source": [
        "# 1- Carregar a base de dados Parkinsons\n",
        "url = \"https://raw.githubusercontent.com/tmoura/machinelearning/master/parkinsons.data\"\n",
        "\n",
        "import pandas as pd\n",
        "from sklearn.model_selection import train_test_split\n",
        "from sklearn.neural_network import MLPClassifier\n",
        "from sklearn import metrics\n",
        "\n",
        "# 2- Normalizar todas as colunas (normalizar é deixar todos os valores das colunas entre 0 e 1)\n",
        "# 3- Separar o dataset em X (matriz de features) e y (coluna target)[0]\n",
        "# 4- Gerar as bases de treinamento e teste\n",
        "# 5- Importar o modelo MLP do sklearn\n",
        "# 6- Instanciar o modelo escolhendo uma topologia para a rede, função de ativação e número de épocas de execução até que obtenha uma taxa de acerto estável\n",
        "# 7- Treinar o modelo com os dados de treinamento\n",
        "# 8- Fazer o predict com os dados de teste\n",
        "# 9- Imprimir o percentual de acerto da base de teste"
      ],
      "metadata": {
        "id": "dxxgln6-cW63"
      },
      "execution_count": null,
      "outputs": []
    },
    {
      "cell_type": "code",
      "source": [
        "#Resposta de 1-\n",
        "dataset=pd.read_csv(url,header=None)\n",
        "\n",
        "#Resposta de 3-\n",
        "colunas=len(dataset.columns)\n",
        "y=dataset[0]\n",
        "X=dataset.loc[:,1:colunas-1]\n",
        "\n",
        "\n",
        "#Resposta de 4-\n",
        "X_treino, X_teste, y_treino, y_teste = train_test_split(X, y, test_size=0.2, stratify=y)\n",
        "\n",
        "#Resposta de 5- e 6-\n",
        "modelo=MLPClassifier(activation='tanh', hidden_layer_sizes=(12,7,3), max_iter=2000)\n",
        "\n",
        "#Resposta de 7-\n",
        "modelo.fit(X_treino, y_treino)\n",
        "\n",
        "#Resposta de 8-\n",
        "resultados=modelo.predict(X_teste)\n",
        "\n",
        "#Resposta de 9-\n",
        "acertos=metrics.accuracy_score(resultados, y_teste)\n",
        "porcentagem_acertos=round(acertos*100)\n",
        "print(\"{}%\".format(porcentagem_acertos))"
      ],
      "metadata": {
        "colab": {
          "base_uri": "https://localhost:8080/"
        },
        "id": "OpciGSQTcylD",
        "outputId": "141a6002-67ea-4b99-f2dc-5cd2db9a9c95"
      },
      "execution_count": null,
      "outputs": [
        {
          "output_type": "stream",
          "name": "stdout",
          "text": [
            "85%\n"
          ]
        }
      ]
    },
    {
      "cell_type": "markdown",
      "source": [
        "### Exercício 3 - Dataset Penguins"
      ],
      "metadata": {
        "id": "5--MXz8Gg94s"
      }
    },
    {
      "cell_type": "code",
      "source": [
        "# 1- Carregar a base de dados Penguins da API do Seaborn\n",
        "# 2- A base precisará ser tratada: Existem valores nulos e dados categóricos\n",
        "####### 3- Normalizar todas as colunas (normalizar é deixar todos os valores das colunas entre 0 e 1) --> Redes Neurais são sensíveis as diferenças escalares de valores das features\n",
        "# 4- Separar o dataset em X (matriz de features) e y (coluna target)\n",
        "# 5- Gerar as bases de treinamento e teste\n",
        "# 6- Importar o modelo MLP do sklearn\n",
        "# 7- Instanciar o modelo escolhendo uma topologia para a rede, função de ativação e número de épocas de execução até que obtenha uma taxa de acerto estável\n",
        "# 8- Treinar o modelo com os dados de treinamento\n",
        "# 9- Fazer o predict com os dados de teste\n",
        "# 10- Imprimir o percentual de acerto da base de teste"
      ],
      "metadata": {
        "id": "6_thFwmchGFP"
      },
      "execution_count": null,
      "outputs": []
    },
    {
      "cell_type": "code",
      "source": [
        "from seaborn import load_dataset\n",
        "from sklearn.preprocessing import OneHotEncoder\n",
        "from sklearn.preprocessing import LabelEncoder\n",
        "from sklearn.compose import make_column_transformer\n",
        "from sklearn.preprocessing import MinMaxScaler\n",
        "import numpy as np\n",
        "import pandas as pd\n",
        "\n",
        "#Resposta de 1-\n",
        "dataset=load_dataset(\"penguins\")\n",
        "\n",
        "#Resposta de 2-\n",
        "dataset=dataset.dropna() #Elimina as linhas com NaN\n",
        "\n",
        "label_encoder=LabelEncoder()\n",
        "dataset['species']=label_encoder.fit_transform(dataset['species']) #Tranforma a coluna target em numerica\n",
        "\n",
        "column_tranform = make_column_transformer((OneHotEncoder(), ['island','sex']), remainder='passthrough') #transformação das colunas categoricas\n",
        "dataset=column_tranform.fit_transform(dataset)\n",
        "dataframe=pd.DataFrame(dataset)\n",
        "\n",
        "#Resposta de 4-\n",
        "y=dataframe[5]\n",
        "X=dataframe.drop(5, axis=1)\n",
        "\n",
        "\n",
        "######################################\n",
        "#Resposta de 3-\n",
        "X[6]=MinMaxScaler().fit_transform(np.array(X[6]).reshape(-1,1))\n",
        "X[7]=MinMaxScaler().fit_transform(np.array(X[7]).reshape(-1,1))\n",
        "X[8]=MinMaxScaler().fit_transform(np.array(X[8]).reshape(-1,1))\n",
        "X[9]=MinMaxScaler().fit_transform(np.array(X[9]).reshape(-1,1))\n",
        "######################################\n",
        "\n",
        "\n",
        "#Resposta de 5-\n",
        "X_treino, X_teste, y_treino, y_teste = train_test_split(X, y, test_size=0.2, stratify=y)\n",
        "\n",
        "#Resposta de 6- e 7-\n",
        "modelo=MLPClassifier(activation='tanh', hidden_layer_sizes=(12,7,3), max_iter=2000)\n",
        "\n",
        "#Resposta de 8-\n",
        "modelo.fit(X_treino, y_treino)\n",
        "\n",
        "#Resposta de 9-\n",
        "resultados=modelo.predict(X_teste)\n",
        "\n",
        "#Resposta de 10-\n",
        "acertos=metrics.accuracy_score(resultados, y_teste)\n",
        "perc_acertos=round(acertos*100)\n",
        "print(\"{}%\".format(perc_acertos))"
      ],
      "metadata": {
        "colab": {
          "base_uri": "https://localhost:8080/"
        },
        "id": "PqOOHqKDhgHq",
        "outputId": "dee19b3c-bb14-4e97-ce79-b913cdb17591"
      },
      "execution_count": null,
      "outputs": [
        {
          "output_type": "stream",
          "name": "stdout",
          "text": [
            "100%\n"
          ]
        }
      ]
    },
    {
      "cell_type": "markdown",
      "source": [
        "### Exercício 4 - Dataset Phoneme"
      ],
      "metadata": {
        "id": "t5tiZIy3vNqk"
      }
    },
    {
      "cell_type": "code",
      "source": [
        "# 1- Carregar a base \"phoneme\"\n",
        "url = \"https://raw.githubusercontent.com/tmoura/machinelearning/master/phoneme.data\"\n",
        "\n",
        "# 2- A coluna 0 é o target\n",
        "# 3- Todas as colunas são numéricas e não possui valores nulos\n",
        "# 4- Separar o dataset em X (matriz de features) e y (coluna target)\n",
        "# 5- Gerar as bases de treinamento e teste\n",
        "# 6- Importar o modelo MLP do sklearn\n",
        "# 7- Instanciar o modelo escolhendo uma topologia para a rede, função de ativação e número de épocas de execução até que obtenha uma taxa de acerto estável\n",
        "# 8- Treinar o modelo com os dados de treinamento\n",
        "# 9- Fazer o predict com os dados de teste\n",
        "# 10- Imprimir o percentual de acerto da base de teste"
      ],
      "metadata": {
        "id": "eSxvC4DbvVsv"
      },
      "execution_count": null,
      "outputs": []
    },
    {
      "cell_type": "code",
      "source": [
        "import pandas as pd\n",
        "from sklearn.model_selection import train_test_split\n",
        "\n",
        "\n",
        "#Resposta de 1-\n",
        "url = \"https://raw.githubusercontent.com/tmoura/machinelearning/master/phoneme.data\"\n",
        "dataset=pd.read_csv(url, header=None)\n",
        "\n",
        "#Resposta 2-, 3- e 4-\n",
        "colunas=len(dataset.columns)\n",
        "y=dataset[0]\n",
        "X=dataset.loc[:,1:colunas-1]\n",
        "\n",
        "#Resposta de 5-\n",
        "X_treino, X_teste, y_treino, y_teste = train_test_split(X, y, test_size=0.2, stratify=y)\n",
        "\n",
        "#Resposta de 6-\n",
        "from sklearn.neural_network import MLPClassifier\n",
        "\n",
        "#Resposta de 7-\n",
        "modelo=MLPClassifier(activation='tanh', hidden_layer_sizes=(20,10), max_iter=2100)\n",
        "\n",
        "#Resposta de 8-\n",
        "modelo.fit(X_treino, y_treino)\n",
        "\n",
        "#Resposta de 9-\n",
        "resultados=modelo.predict(X_teste)\n",
        "acertos=metrics.accuracy_score(resultados, y_teste)\n",
        "perc_acertos=round(acertos*100)\n",
        "print(\"{}%\".format(perc_acertos))\n"
      ],
      "metadata": {
        "colab": {
          "base_uri": "https://localhost:8080/"
        },
        "id": "KdUtmD_h6bO2",
        "outputId": "85d82d14-e1bc-42da-83b0-a2dab9187a65"
      },
      "execution_count": null,
      "outputs": [
        {
          "output_type": "stream",
          "name": "stdout",
          "text": [
            "87%\n"
          ]
        }
      ]
    }
  ]
}