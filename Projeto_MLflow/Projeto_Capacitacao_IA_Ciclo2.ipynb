{
  "nbformat": 4,
  "nbformat_minor": 0,
  "metadata": {
    "colab": {
      "provenance": []
    },
    "kernelspec": {
      "name": "python3",
      "display_name": "Python 3"
    },
    "language_info": {
      "name": "python"
    },
    "widgets": {
      "application/vnd.jupyter.widget-state+json": {
        "6144a35ca52f49aebf06f3b27c712e33": {
          "model_module": "@jupyter-widgets/controls",
          "model_name": "HBoxModel",
          "model_module_version": "1.5.0",
          "state": {
            "_dom_classes": [],
            "_model_module": "@jupyter-widgets/controls",
            "_model_module_version": "1.5.0",
            "_model_name": "HBoxModel",
            "_view_count": null,
            "_view_module": "@jupyter-widgets/controls",
            "_view_module_version": "1.5.0",
            "_view_name": "HBoxView",
            "box_style": "",
            "children": [
              "IPY_MODEL_de276e9bd42f49bba05ff56fcaf13a48",
              "IPY_MODEL_a9ccea959ebf4b688eb8db82ff1a142d",
              "IPY_MODEL_7261a2928e7e456188f8f1095eac07b6"
            ],
            "layout": "IPY_MODEL_12bc056641014363985c8464e59ae985"
          }
        },
        "de276e9bd42f49bba05ff56fcaf13a48": {
          "model_module": "@jupyter-widgets/controls",
          "model_name": "HTMLModel",
          "model_module_version": "1.5.0",
          "state": {
            "_dom_classes": [],
            "_model_module": "@jupyter-widgets/controls",
            "_model_module_version": "1.5.0",
            "_model_name": "HTMLModel",
            "_view_count": null,
            "_view_module": "@jupyter-widgets/controls",
            "_view_module_version": "1.5.0",
            "_view_name": "HTMLView",
            "description": "",
            "description_tooltip": null,
            "layout": "IPY_MODEL_93ee01ec5df74b4782c39d739b2a0b52",
            "placeholder": "​",
            "style": "IPY_MODEL_5bf11d8e959b4cd7b77b498482f45e31",
            "value": "Downloading artifacts: 100%"
          }
        },
        "a9ccea959ebf4b688eb8db82ff1a142d": {
          "model_module": "@jupyter-widgets/controls",
          "model_name": "FloatProgressModel",
          "model_module_version": "1.5.0",
          "state": {
            "_dom_classes": [],
            "_model_module": "@jupyter-widgets/controls",
            "_model_module_version": "1.5.0",
            "_model_name": "FloatProgressModel",
            "_view_count": null,
            "_view_module": "@jupyter-widgets/controls",
            "_view_module_version": "1.5.0",
            "_view_name": "ProgressView",
            "bar_style": "success",
            "description": "",
            "description_tooltip": null,
            "layout": "IPY_MODEL_3c30068d02154bbc869f3961a3049b96",
            "max": 9,
            "min": 0,
            "orientation": "horizontal",
            "style": "IPY_MODEL_615e36b2235c492183bff34f12ae0773",
            "value": 9
          }
        },
        "7261a2928e7e456188f8f1095eac07b6": {
          "model_module": "@jupyter-widgets/controls",
          "model_name": "HTMLModel",
          "model_module_version": "1.5.0",
          "state": {
            "_dom_classes": [],
            "_model_module": "@jupyter-widgets/controls",
            "_model_module_version": "1.5.0",
            "_model_name": "HTMLModel",
            "_view_count": null,
            "_view_module": "@jupyter-widgets/controls",
            "_view_module_version": "1.5.0",
            "_view_name": "HTMLView",
            "description": "",
            "description_tooltip": null,
            "layout": "IPY_MODEL_dcb73b0f3c384f9bb2ff40764bd2aa8f",
            "placeholder": "​",
            "style": "IPY_MODEL_97718ae54e17417a918eb7619d646692",
            "value": " 9/9 [00:00&lt;00:00, 23.00it/s]"
          }
        },
        "12bc056641014363985c8464e59ae985": {
          "model_module": "@jupyter-widgets/base",
          "model_name": "LayoutModel",
          "model_module_version": "1.2.0",
          "state": {
            "_model_module": "@jupyter-widgets/base",
            "_model_module_version": "1.2.0",
            "_model_name": "LayoutModel",
            "_view_count": null,
            "_view_module": "@jupyter-widgets/base",
            "_view_module_version": "1.2.0",
            "_view_name": "LayoutView",
            "align_content": null,
            "align_items": null,
            "align_self": null,
            "border": null,
            "bottom": null,
            "display": null,
            "flex": null,
            "flex_flow": null,
            "grid_area": null,
            "grid_auto_columns": null,
            "grid_auto_flow": null,
            "grid_auto_rows": null,
            "grid_column": null,
            "grid_gap": null,
            "grid_row": null,
            "grid_template_areas": null,
            "grid_template_columns": null,
            "grid_template_rows": null,
            "height": null,
            "justify_content": null,
            "justify_items": null,
            "left": null,
            "margin": null,
            "max_height": null,
            "max_width": null,
            "min_height": null,
            "min_width": null,
            "object_fit": null,
            "object_position": null,
            "order": null,
            "overflow": null,
            "overflow_x": null,
            "overflow_y": null,
            "padding": null,
            "right": null,
            "top": null,
            "visibility": null,
            "width": null
          }
        },
        "93ee01ec5df74b4782c39d739b2a0b52": {
          "model_module": "@jupyter-widgets/base",
          "model_name": "LayoutModel",
          "model_module_version": "1.2.0",
          "state": {
            "_model_module": "@jupyter-widgets/base",
            "_model_module_version": "1.2.0",
            "_model_name": "LayoutModel",
            "_view_count": null,
            "_view_module": "@jupyter-widgets/base",
            "_view_module_version": "1.2.0",
            "_view_name": "LayoutView",
            "align_content": null,
            "align_items": null,
            "align_self": null,
            "border": null,
            "bottom": null,
            "display": null,
            "flex": null,
            "flex_flow": null,
            "grid_area": null,
            "grid_auto_columns": null,
            "grid_auto_flow": null,
            "grid_auto_rows": null,
            "grid_column": null,
            "grid_gap": null,
            "grid_row": null,
            "grid_template_areas": null,
            "grid_template_columns": null,
            "grid_template_rows": null,
            "height": null,
            "justify_content": null,
            "justify_items": null,
            "left": null,
            "margin": null,
            "max_height": null,
            "max_width": null,
            "min_height": null,
            "min_width": null,
            "object_fit": null,
            "object_position": null,
            "order": null,
            "overflow": null,
            "overflow_x": null,
            "overflow_y": null,
            "padding": null,
            "right": null,
            "top": null,
            "visibility": null,
            "width": null
          }
        },
        "5bf11d8e959b4cd7b77b498482f45e31": {
          "model_module": "@jupyter-widgets/controls",
          "model_name": "DescriptionStyleModel",
          "model_module_version": "1.5.0",
          "state": {
            "_model_module": "@jupyter-widgets/controls",
            "_model_module_version": "1.5.0",
            "_model_name": "DescriptionStyleModel",
            "_view_count": null,
            "_view_module": "@jupyter-widgets/base",
            "_view_module_version": "1.2.0",
            "_view_name": "StyleView",
            "description_width": ""
          }
        },
        "3c30068d02154bbc869f3961a3049b96": {
          "model_module": "@jupyter-widgets/base",
          "model_name": "LayoutModel",
          "model_module_version": "1.2.0",
          "state": {
            "_model_module": "@jupyter-widgets/base",
            "_model_module_version": "1.2.0",
            "_model_name": "LayoutModel",
            "_view_count": null,
            "_view_module": "@jupyter-widgets/base",
            "_view_module_version": "1.2.0",
            "_view_name": "LayoutView",
            "align_content": null,
            "align_items": null,
            "align_self": null,
            "border": null,
            "bottom": null,
            "display": null,
            "flex": null,
            "flex_flow": null,
            "grid_area": null,
            "grid_auto_columns": null,
            "grid_auto_flow": null,
            "grid_auto_rows": null,
            "grid_column": null,
            "grid_gap": null,
            "grid_row": null,
            "grid_template_areas": null,
            "grid_template_columns": null,
            "grid_template_rows": null,
            "height": null,
            "justify_content": null,
            "justify_items": null,
            "left": null,
            "margin": null,
            "max_height": null,
            "max_width": null,
            "min_height": null,
            "min_width": null,
            "object_fit": null,
            "object_position": null,
            "order": null,
            "overflow": null,
            "overflow_x": null,
            "overflow_y": null,
            "padding": null,
            "right": null,
            "top": null,
            "visibility": null,
            "width": null
          }
        },
        "615e36b2235c492183bff34f12ae0773": {
          "model_module": "@jupyter-widgets/controls",
          "model_name": "ProgressStyleModel",
          "model_module_version": "1.5.0",
          "state": {
            "_model_module": "@jupyter-widgets/controls",
            "_model_module_version": "1.5.0",
            "_model_name": "ProgressStyleModel",
            "_view_count": null,
            "_view_module": "@jupyter-widgets/base",
            "_view_module_version": "1.2.0",
            "_view_name": "StyleView",
            "bar_color": null,
            "description_width": ""
          }
        },
        "dcb73b0f3c384f9bb2ff40764bd2aa8f": {
          "model_module": "@jupyter-widgets/base",
          "model_name": "LayoutModel",
          "model_module_version": "1.2.0",
          "state": {
            "_model_module": "@jupyter-widgets/base",
            "_model_module_version": "1.2.0",
            "_model_name": "LayoutModel",
            "_view_count": null,
            "_view_module": "@jupyter-widgets/base",
            "_view_module_version": "1.2.0",
            "_view_name": "LayoutView",
            "align_content": null,
            "align_items": null,
            "align_self": null,
            "border": null,
            "bottom": null,
            "display": null,
            "flex": null,
            "flex_flow": null,
            "grid_area": null,
            "grid_auto_columns": null,
            "grid_auto_flow": null,
            "grid_auto_rows": null,
            "grid_column": null,
            "grid_gap": null,
            "grid_row": null,
            "grid_template_areas": null,
            "grid_template_columns": null,
            "grid_template_rows": null,
            "height": null,
            "justify_content": null,
            "justify_items": null,
            "left": null,
            "margin": null,
            "max_height": null,
            "max_width": null,
            "min_height": null,
            "min_width": null,
            "object_fit": null,
            "object_position": null,
            "order": null,
            "overflow": null,
            "overflow_x": null,
            "overflow_y": null,
            "padding": null,
            "right": null,
            "top": null,
            "visibility": null,
            "width": null
          }
        },
        "97718ae54e17417a918eb7619d646692": {
          "model_module": "@jupyter-widgets/controls",
          "model_name": "DescriptionStyleModel",
          "model_module_version": "1.5.0",
          "state": {
            "_model_module": "@jupyter-widgets/controls",
            "_model_module_version": "1.5.0",
            "_model_name": "DescriptionStyleModel",
            "_view_count": null,
            "_view_module": "@jupyter-widgets/base",
            "_view_module_version": "1.2.0",
            "_view_name": "StyleView",
            "description_width": ""
          }
        }
      }
    }
  },
  "cells": [
    {
      "cell_type": "markdown",
      "source": [
        "#Importação das bibliotecas e defiição das subrotinas"
      ],
      "metadata": {
        "id": "-aeCbSfyaD__"
      }
    },
    {
      "cell_type": "code",
      "execution_count": null,
      "metadata": {
        "id": "Kg5XQkzKnnca",
        "colab": {
          "base_uri": "https://localhost:8080/"
        },
        "outputId": "30a40de0-8c1e-46c4-e625-f82fe7cd454b"
      },
      "outputs": [
        {
          "output_type": "stream",
          "name": "stdout",
          "text": [
            "\u001b[2K     \u001b[90m━━━━━━━━━━━━━━━━━━━━━━━━━━━━━━━━━━━━━━━━\u001b[0m \u001b[32m25.0/25.0 MB\u001b[0m \u001b[31m38.3 MB/s\u001b[0m eta \u001b[36m0:00:00\u001b[0m\n",
            "\u001b[2K     \u001b[90m━━━━━━━━━━━━━━━━━━━━━━━━━━━━━━━━━━━━━━━━\u001b[0m \u001b[32m233.4/233.4 kB\u001b[0m \u001b[31m17.8 MB/s\u001b[0m eta \u001b[36m0:00:00\u001b[0m\n",
            "\u001b[2K     \u001b[90m━━━━━━━━━━━━━━━━━━━━━━━━━━━━━━━━━━━━━━━━\u001b[0m \u001b[32m147.8/147.8 kB\u001b[0m \u001b[31m11.5 MB/s\u001b[0m eta \u001b[36m0:00:00\u001b[0m\n",
            "\u001b[2K     \u001b[90m━━━━━━━━━━━━━━━━━━━━━━━━━━━━━━━━━━━━━━━━\u001b[0m \u001b[32m207.3/207.3 kB\u001b[0m \u001b[31m15.8 MB/s\u001b[0m eta \u001b[36m0:00:00\u001b[0m\n",
            "\u001b[2K     \u001b[90m━━━━━━━━━━━━━━━━━━━━━━━━━━━━━━━━━━━━━━━━\u001b[0m \u001b[32m128.2/128.2 kB\u001b[0m \u001b[31m12.4 MB/s\u001b[0m eta \u001b[36m0:00:00\u001b[0m\n",
            "\u001b[2K     \u001b[90m━━━━━━━━━━━━━━━━━━━━━━━━━━━━━━━━━━━━━━━━\u001b[0m \u001b[32m59.9/59.9 kB\u001b[0m \u001b[31m5.2 MB/s\u001b[0m eta \u001b[36m0:00:00\u001b[0m\n",
            "\u001b[2K     \u001b[90m━━━━━━━━━━━━━━━━━━━━━━━━━━━━━━━━━━━━━━━━\u001b[0m \u001b[32m107.0/107.0 kB\u001b[0m \u001b[31m6.9 MB/s\u001b[0m eta \u001b[36m0:00:00\u001b[0m\n",
            "\u001b[2K     \u001b[90m━━━━━━━━━━━━━━━━━━━━━━━━━━━━━━━━━━━━━━━━\u001b[0m \u001b[32m84.4/84.4 kB\u001b[0m \u001b[31m9.2 MB/s\u001b[0m eta \u001b[36m0:00:00\u001b[0m\n",
            "\u001b[2K     \u001b[90m━━━━━━━━━━━━━━━━━━━━━━━━━━━━━━━━━━━━━━━━\u001b[0m \u001b[32m78.6/78.6 kB\u001b[0m \u001b[31m7.2 MB/s\u001b[0m eta \u001b[36m0:00:00\u001b[0m\n",
            "\u001b[2K     \u001b[90m━━━━━━━━━━━━━━━━━━━━━━━━━━━━━━━━━━━━━━━━\u001b[0m \u001b[32m62.7/62.7 kB\u001b[0m \u001b[31m5.5 MB/s\u001b[0m eta \u001b[36m0:00:00\u001b[0m\n",
            "\u001b[2K     \u001b[90m━━━━━━━━━━━━━━━━━━━━━━━━━━━━━━━━━━━━━━━━\u001b[0m \u001b[32m202.9/202.9 kB\u001b[0m \u001b[31m7.5 MB/s\u001b[0m eta \u001b[36m0:00:00\u001b[0m\n",
            "\u001b[2K     \u001b[90m━━━━━━━━━━━━━━━━━━━━━━━━━━━━━━━━━━━━━━━━\u001b[0m \u001b[32m52.8/52.8 kB\u001b[0m \u001b[31m3.4 MB/s\u001b[0m eta \u001b[36m0:00:00\u001b[0m\n",
            "\u001b[2K     \u001b[90m━━━━━━━━━━━━━━━━━━━━━━━━━━━━━━━━━━━━━━━━\u001b[0m \u001b[32m130.5/130.5 kB\u001b[0m \u001b[31m13.6 MB/s\u001b[0m eta \u001b[36m0:00:00\u001b[0m\n",
            "\u001b[2K     \u001b[90m━━━━━━━━━━━━━━━━━━━━━━━━━━━━━━━━━━━━━━━━\u001b[0m \u001b[32m172.6/172.6 kB\u001b[0m \u001b[31m3.7 MB/s\u001b[0m eta \u001b[36m0:00:00\u001b[0m\n",
            "\u001b[?25h"
          ]
        }
      ],
      "source": [
        "!pip install mlflow --quiet\n",
        "!pip install pyngrok --quiet\n",
        "!pip install deslib --quiet\n",
        "\n",
        "import numpy as np\n",
        "import seaborn as sns\n",
        "import pandas as pd\n",
        "import pprint\n",
        "import mlflow.sklearn\n",
        "\n",
        "from sklearn.preprocessing import MinMaxScaler, OneHotEncoder\n",
        "from sklearn.compose import make_column_transformer\n",
        "from sklearn.metrics import confusion_matrix\n",
        "from imblearn.under_sampling import NearMiss\n",
        "from sklearn import metrics\n",
        "from sklearn.model_selection import train_test_split, StratifiedKFold\n",
        "from sklearn.tree import DecisionTreeClassifier\n",
        "from sklearn.neighbors import KNeighborsClassifier\n",
        "from sklearn.svm import SVC, LinearSVC\n",
        "from sklearn.ensemble import RandomForestClassifier, BaggingClassifier, GradientBoostingClassifier\n",
        "import xgboost as xgb\n",
        "import lightgbm as lgb\n",
        "\n",
        "import mlflow\n",
        "from pyngrok import ngrok\n",
        "\n",
        "from deslib.dcs import OLA, LCA, MCB\n",
        "from deslib.des import KNORAE, KNORAU\n",
        "\n",
        "import warnings\n",
        "warnings.filterwarnings(\"ignore\")\n"
      ]
    },
    {
      "cell_type": "code",
      "source": [
        "#Função que calcula todas as métricas e as retorna no formato de dicionário\n",
        "def metrics_dict(trained_model, x_test, y_test):\n",
        "  resultados = trained_model.predict(x_test)\n",
        "  metricas = {}\n",
        "  metricas[\"accuracy\"] = metrics.accuracy_score(y_test, resultados)\n",
        "  tn, fp, fn, tp = confusion_matrix(y_test, resultados).ravel()\n",
        "  metricas[\"precision\"] = tp / (tp + fp)\n",
        "  metricas[\"recal\"] = tp / (tp + fn)\n",
        "  metricas[\"specificity\"] = tn / (tn + fp)\n",
        "  metricas[\"auc\"] = metrics.roc_auc_score(y_test, resultados)\n",
        "\n",
        "  return metricas\n",
        "\n",
        "#Função que instancia um modelo baseado no tipo informado e retorna o modelo instanciado\n",
        "def instance_model(tipe, params):\n",
        "  match tipe:\n",
        "    case 1:\n",
        "      return DecisionTreeClassifier(**params)\n",
        "    case 2:\n",
        "      return KNeighborsClassifier(**params)\n",
        "    case 3:\n",
        "      return SVC(**params)\n",
        "    case 4:\n",
        "      return GradientBoostingClassifier(**params)\n",
        "    case 5:\n",
        "      return xgb.XGBClassifier(**params)\n",
        "    case 6:\n",
        "      return lgb.LGBMClassifier(**params)\n",
        "    case 7:\n",
        "      return RandomForestClassifier(**params)\n",
        "    case 8:\n",
        "      return BaggingClassifier(**params)"
      ],
      "metadata": {
        "id": "YofrgsyO7gOb"
      },
      "execution_count": null,
      "outputs": []
    },
    {
      "cell_type": "code",
      "source": [
        "#Função que atualiza os valores das médias das métricas dos modelos\n",
        "def update_metrics(models_dict, models_instances, x_test, test_y, models_names):\n",
        "  #metricas dos modelos\n",
        "  metrics_results = [metrics_dict(model, x_test, test_y) for model in models_instances]\n",
        "\n",
        "  #Incremento dos valores calculados divididos por 10\n",
        "  for metrica in metrics_tupla:\n",
        "    for j,model in enumerate(models_names):\n",
        "      models_dict[model][\"metrics\"][metrica] += metrics_results[j][metrica]/10\n",
        "\n",
        "  return models_dict\n",
        "\n",
        "# Superfunção que realiza a parte principal Projeto trabanhando em conjutno com as outras funções\n",
        "def super_function (models_dict, models_names, deslib_models, x_train, train_y, x_test, test_y):\n",
        "\n",
        "  for i in range(folds):\n",
        "\n",
        "    #Lista para guardar os modelos instanciados\n",
        "    models_instances = []\n",
        "\n",
        "    if (deslib_models == False):\n",
        "      #Instanciando os modelos\n",
        "      for model in models_names:\n",
        "        models_instances.append(instance_model(models_dict[model].get(\"type\"), models_dict[model].get(\"params\")))\n",
        "\n",
        "      #Treinamentos dos modelos\n",
        "      for model in models_instances:\n",
        "        model.fit(x_train[i], train_y[i])\n",
        "\n",
        "    else:\n",
        "      #Instancia do modelo RandomForest or Bagging\n",
        "      aux_model = instance_model(models_dict[models_names[0]].get(\"type\"), models_dict[models_names[0]].get(\"params\"))\n",
        "      aux_model.fit(x_train[i], train_y[i])\n",
        "      models_instances.append(aux_model)\n",
        "\n",
        "      #Separação dos conjuntos de testes para os modelos de seleção dinâmica\n",
        "      x_drop, x_dsel, y_drop, y_dsel = train_test_split(x_train[i], train_y[i], test_size = 0.5, stratify=train_y[i])\n",
        "\n",
        "      #Instancia dos modelos de seleção dinâmica\n",
        "      models_instances.append(KNORAE(aux_model, k = 5).fit(x_dsel, y_dsel))\n",
        "      models_instances.append(KNORAU(aux_model, k = 5).fit(x_dsel, y_dsel))\n",
        "      models_instances.append(OLA(aux_model, k = 5).fit(x_dsel, y_dsel))\n",
        "      models_instances.append(LCA(aux_model, k = 5).fit(x_dsel, y_dsel))\n",
        "      models_instances.append(MCB(aux_model, k = 5).fit(x_dsel, y_dsel))\n",
        "\n",
        "    #atualização das médias das metricas de todos os modelos\n",
        "    models_dict = update_metrics(models_dict, models_instances, x_test[i], test_y[i], models_names)\n",
        "\n",
        "  #Guarda a última instancia de cada modelo no dicionario models_dicts\n",
        "  for pos,model in enumerate(models_names):\n",
        "    models_dict[model][\"model\"] = models_instances[pos]\n",
        "\n",
        "  return models_dict\n"
      ],
      "metadata": {
        "id": "6ptjRg58a299"
      },
      "execution_count": null,
      "outputs": []
    },
    {
      "cell_type": "markdown",
      "source": [
        "#Importação da Base de dados e Preprocessamento"
      ],
      "metadata": {
        "id": "qpe5d9xGaS2E"
      }
    },
    {
      "cell_type": "code",
      "source": [
        "###Para saber mais sobre o projeto\n",
        "###LINK DO KAGGLE https://www.kaggle.com/datasets/shubhammeshram579/bank-customer-churn-prediction\n",
        "\n",
        "url = \"https://raw.githubusercontent.com/Matheus256/Capacitacao_IA_Softex/main/Churn_Modelling.csv\"\n",
        "\n",
        "#dataset = pd.read_csv(\"Churn_Modelling.csv\")\n",
        "dataset = pd.read_csv(url)\n",
        "\n",
        "dataset.head()"
      ],
      "metadata": {
        "colab": {
          "base_uri": "https://localhost:8080/",
          "height": 226
        },
        "id": "I1phuhIWiZ_m",
        "outputId": "05e2f89d-49aa-427a-936f-59ebd4befb45"
      },
      "execution_count": null,
      "outputs": [
        {
          "output_type": "execute_result",
          "data": {
            "text/plain": [
              "   RowNumber  CustomerId   Surname  CreditScore Geography  Gender   Age  \\\n",
              "0          1    15634602  Hargrave          619    France  Female  42.0   \n",
              "1          2    15647311      Hill          608     Spain  Female  41.0   \n",
              "2          3    15619304      Onio          502    France  Female  42.0   \n",
              "3          4    15701354      Boni          699    France  Female  39.0   \n",
              "4          5    15737888  Mitchell          850     Spain  Female  43.0   \n",
              "\n",
              "   Tenure    Balance  NumOfProducts  HasCrCard  IsActiveMember  \\\n",
              "0       2       0.00              1        1.0             1.0   \n",
              "1       1   83807.86              1        0.0             1.0   \n",
              "2       8  159660.80              3        1.0             0.0   \n",
              "3       1       0.00              2        0.0             0.0   \n",
              "4       2  125510.82              1        NaN             1.0   \n",
              "\n",
              "   EstimatedSalary  Exited  \n",
              "0        101348.88       1  \n",
              "1        112542.58       0  \n",
              "2        113931.57       1  \n",
              "3         93826.63       0  \n",
              "4         79084.10       0  "
            ],
            "text/html": [
              "\n",
              "  <div id=\"df-baa073d6-3381-4691-96dc-94a5443860fe\" class=\"colab-df-container\">\n",
              "    <div>\n",
              "<style scoped>\n",
              "    .dataframe tbody tr th:only-of-type {\n",
              "        vertical-align: middle;\n",
              "    }\n",
              "\n",
              "    .dataframe tbody tr th {\n",
              "        vertical-align: top;\n",
              "    }\n",
              "\n",
              "    .dataframe thead th {\n",
              "        text-align: right;\n",
              "    }\n",
              "</style>\n",
              "<table border=\"1\" class=\"dataframe\">\n",
              "  <thead>\n",
              "    <tr style=\"text-align: right;\">\n",
              "      <th></th>\n",
              "      <th>RowNumber</th>\n",
              "      <th>CustomerId</th>\n",
              "      <th>Surname</th>\n",
              "      <th>CreditScore</th>\n",
              "      <th>Geography</th>\n",
              "      <th>Gender</th>\n",
              "      <th>Age</th>\n",
              "      <th>Tenure</th>\n",
              "      <th>Balance</th>\n",
              "      <th>NumOfProducts</th>\n",
              "      <th>HasCrCard</th>\n",
              "      <th>IsActiveMember</th>\n",
              "      <th>EstimatedSalary</th>\n",
              "      <th>Exited</th>\n",
              "    </tr>\n",
              "  </thead>\n",
              "  <tbody>\n",
              "    <tr>\n",
              "      <th>0</th>\n",
              "      <td>1</td>\n",
              "      <td>15634602</td>\n",
              "      <td>Hargrave</td>\n",
              "      <td>619</td>\n",
              "      <td>France</td>\n",
              "      <td>Female</td>\n",
              "      <td>42.0</td>\n",
              "      <td>2</td>\n",
              "      <td>0.00</td>\n",
              "      <td>1</td>\n",
              "      <td>1.0</td>\n",
              "      <td>1.0</td>\n",
              "      <td>101348.88</td>\n",
              "      <td>1</td>\n",
              "    </tr>\n",
              "    <tr>\n",
              "      <th>1</th>\n",
              "      <td>2</td>\n",
              "      <td>15647311</td>\n",
              "      <td>Hill</td>\n",
              "      <td>608</td>\n",
              "      <td>Spain</td>\n",
              "      <td>Female</td>\n",
              "      <td>41.0</td>\n",
              "      <td>1</td>\n",
              "      <td>83807.86</td>\n",
              "      <td>1</td>\n",
              "      <td>0.0</td>\n",
              "      <td>1.0</td>\n",
              "      <td>112542.58</td>\n",
              "      <td>0</td>\n",
              "    </tr>\n",
              "    <tr>\n",
              "      <th>2</th>\n",
              "      <td>3</td>\n",
              "      <td>15619304</td>\n",
              "      <td>Onio</td>\n",
              "      <td>502</td>\n",
              "      <td>France</td>\n",
              "      <td>Female</td>\n",
              "      <td>42.0</td>\n",
              "      <td>8</td>\n",
              "      <td>159660.80</td>\n",
              "      <td>3</td>\n",
              "      <td>1.0</td>\n",
              "      <td>0.0</td>\n",
              "      <td>113931.57</td>\n",
              "      <td>1</td>\n",
              "    </tr>\n",
              "    <tr>\n",
              "      <th>3</th>\n",
              "      <td>4</td>\n",
              "      <td>15701354</td>\n",
              "      <td>Boni</td>\n",
              "      <td>699</td>\n",
              "      <td>France</td>\n",
              "      <td>Female</td>\n",
              "      <td>39.0</td>\n",
              "      <td>1</td>\n",
              "      <td>0.00</td>\n",
              "      <td>2</td>\n",
              "      <td>0.0</td>\n",
              "      <td>0.0</td>\n",
              "      <td>93826.63</td>\n",
              "      <td>0</td>\n",
              "    </tr>\n",
              "    <tr>\n",
              "      <th>4</th>\n",
              "      <td>5</td>\n",
              "      <td>15737888</td>\n",
              "      <td>Mitchell</td>\n",
              "      <td>850</td>\n",
              "      <td>Spain</td>\n",
              "      <td>Female</td>\n",
              "      <td>43.0</td>\n",
              "      <td>2</td>\n",
              "      <td>125510.82</td>\n",
              "      <td>1</td>\n",
              "      <td>NaN</td>\n",
              "      <td>1.0</td>\n",
              "      <td>79084.10</td>\n",
              "      <td>0</td>\n",
              "    </tr>\n",
              "  </tbody>\n",
              "</table>\n",
              "</div>\n",
              "    <div class=\"colab-df-buttons\">\n",
              "\n",
              "  <div class=\"colab-df-container\">\n",
              "    <button class=\"colab-df-convert\" onclick=\"convertToInteractive('df-baa073d6-3381-4691-96dc-94a5443860fe')\"\n",
              "            title=\"Convert this dataframe to an interactive table.\"\n",
              "            style=\"display:none;\">\n",
              "\n",
              "  <svg xmlns=\"http://www.w3.org/2000/svg\" height=\"24px\" viewBox=\"0 -960 960 960\">\n",
              "    <path d=\"M120-120v-720h720v720H120Zm60-500h600v-160H180v160Zm220 220h160v-160H400v160Zm0 220h160v-160H400v160ZM180-400h160v-160H180v160Zm440 0h160v-160H620v160ZM180-180h160v-160H180v160Zm440 0h160v-160H620v160Z\"/>\n",
              "  </svg>\n",
              "    </button>\n",
              "\n",
              "  <style>\n",
              "    .colab-df-container {\n",
              "      display:flex;\n",
              "      gap: 12px;\n",
              "    }\n",
              "\n",
              "    .colab-df-convert {\n",
              "      background-color: #E8F0FE;\n",
              "      border: none;\n",
              "      border-radius: 50%;\n",
              "      cursor: pointer;\n",
              "      display: none;\n",
              "      fill: #1967D2;\n",
              "      height: 32px;\n",
              "      padding: 0 0 0 0;\n",
              "      width: 32px;\n",
              "    }\n",
              "\n",
              "    .colab-df-convert:hover {\n",
              "      background-color: #E2EBFA;\n",
              "      box-shadow: 0px 1px 2px rgba(60, 64, 67, 0.3), 0px 1px 3px 1px rgba(60, 64, 67, 0.15);\n",
              "      fill: #174EA6;\n",
              "    }\n",
              "\n",
              "    .colab-df-buttons div {\n",
              "      margin-bottom: 4px;\n",
              "    }\n",
              "\n",
              "    [theme=dark] .colab-df-convert {\n",
              "      background-color: #3B4455;\n",
              "      fill: #D2E3FC;\n",
              "    }\n",
              "\n",
              "    [theme=dark] .colab-df-convert:hover {\n",
              "      background-color: #434B5C;\n",
              "      box-shadow: 0px 1px 3px 1px rgba(0, 0, 0, 0.15);\n",
              "      filter: drop-shadow(0px 1px 2px rgba(0, 0, 0, 0.3));\n",
              "      fill: #FFFFFF;\n",
              "    }\n",
              "  </style>\n",
              "\n",
              "    <script>\n",
              "      const buttonEl =\n",
              "        document.querySelector('#df-baa073d6-3381-4691-96dc-94a5443860fe button.colab-df-convert');\n",
              "      buttonEl.style.display =\n",
              "        google.colab.kernel.accessAllowed ? 'block' : 'none';\n",
              "\n",
              "      async function convertToInteractive(key) {\n",
              "        const element = document.querySelector('#df-baa073d6-3381-4691-96dc-94a5443860fe');\n",
              "        const dataTable =\n",
              "          await google.colab.kernel.invokeFunction('convertToInteractive',\n",
              "                                                    [key], {});\n",
              "        if (!dataTable) return;\n",
              "\n",
              "        const docLinkHtml = 'Like what you see? Visit the ' +\n",
              "          '<a target=\"_blank\" href=https://colab.research.google.com/notebooks/data_table.ipynb>data table notebook</a>'\n",
              "          + ' to learn more about interactive tables.';\n",
              "        element.innerHTML = '';\n",
              "        dataTable['output_type'] = 'display_data';\n",
              "        await google.colab.output.renderOutput(dataTable, element);\n",
              "        const docLink = document.createElement('div');\n",
              "        docLink.innerHTML = docLinkHtml;\n",
              "        element.appendChild(docLink);\n",
              "      }\n",
              "    </script>\n",
              "  </div>\n",
              "\n",
              "\n",
              "<div id=\"df-d7e3852d-7956-4010-920f-244ab4c1a62e\">\n",
              "  <button class=\"colab-df-quickchart\" onclick=\"quickchart('df-d7e3852d-7956-4010-920f-244ab4c1a62e')\"\n",
              "            title=\"Suggest charts\"\n",
              "            style=\"display:none;\">\n",
              "\n",
              "<svg xmlns=\"http://www.w3.org/2000/svg\" height=\"24px\"viewBox=\"0 0 24 24\"\n",
              "     width=\"24px\">\n",
              "    <g>\n",
              "        <path d=\"M19 3H5c-1.1 0-2 .9-2 2v14c0 1.1.9 2 2 2h14c1.1 0 2-.9 2-2V5c0-1.1-.9-2-2-2zM9 17H7v-7h2v7zm4 0h-2V7h2v10zm4 0h-2v-4h2v4z\"/>\n",
              "    </g>\n",
              "</svg>\n",
              "  </button>\n",
              "\n",
              "<style>\n",
              "  .colab-df-quickchart {\n",
              "      --bg-color: #E8F0FE;\n",
              "      --fill-color: #1967D2;\n",
              "      --hover-bg-color: #E2EBFA;\n",
              "      --hover-fill-color: #174EA6;\n",
              "      --disabled-fill-color: #AAA;\n",
              "      --disabled-bg-color: #DDD;\n",
              "  }\n",
              "\n",
              "  [theme=dark] .colab-df-quickchart {\n",
              "      --bg-color: #3B4455;\n",
              "      --fill-color: #D2E3FC;\n",
              "      --hover-bg-color: #434B5C;\n",
              "      --hover-fill-color: #FFFFFF;\n",
              "      --disabled-bg-color: #3B4455;\n",
              "      --disabled-fill-color: #666;\n",
              "  }\n",
              "\n",
              "  .colab-df-quickchart {\n",
              "    background-color: var(--bg-color);\n",
              "    border: none;\n",
              "    border-radius: 50%;\n",
              "    cursor: pointer;\n",
              "    display: none;\n",
              "    fill: var(--fill-color);\n",
              "    height: 32px;\n",
              "    padding: 0;\n",
              "    width: 32px;\n",
              "  }\n",
              "\n",
              "  .colab-df-quickchart:hover {\n",
              "    background-color: var(--hover-bg-color);\n",
              "    box-shadow: 0 1px 2px rgba(60, 64, 67, 0.3), 0 1px 3px 1px rgba(60, 64, 67, 0.15);\n",
              "    fill: var(--button-hover-fill-color);\n",
              "  }\n",
              "\n",
              "  .colab-df-quickchart-complete:disabled,\n",
              "  .colab-df-quickchart-complete:disabled:hover {\n",
              "    background-color: var(--disabled-bg-color);\n",
              "    fill: var(--disabled-fill-color);\n",
              "    box-shadow: none;\n",
              "  }\n",
              "\n",
              "  .colab-df-spinner {\n",
              "    border: 2px solid var(--fill-color);\n",
              "    border-color: transparent;\n",
              "    border-bottom-color: var(--fill-color);\n",
              "    animation:\n",
              "      spin 1s steps(1) infinite;\n",
              "  }\n",
              "\n",
              "  @keyframes spin {\n",
              "    0% {\n",
              "      border-color: transparent;\n",
              "      border-bottom-color: var(--fill-color);\n",
              "      border-left-color: var(--fill-color);\n",
              "    }\n",
              "    20% {\n",
              "      border-color: transparent;\n",
              "      border-left-color: var(--fill-color);\n",
              "      border-top-color: var(--fill-color);\n",
              "    }\n",
              "    30% {\n",
              "      border-color: transparent;\n",
              "      border-left-color: var(--fill-color);\n",
              "      border-top-color: var(--fill-color);\n",
              "      border-right-color: var(--fill-color);\n",
              "    }\n",
              "    40% {\n",
              "      border-color: transparent;\n",
              "      border-right-color: var(--fill-color);\n",
              "      border-top-color: var(--fill-color);\n",
              "    }\n",
              "    60% {\n",
              "      border-color: transparent;\n",
              "      border-right-color: var(--fill-color);\n",
              "    }\n",
              "    80% {\n",
              "      border-color: transparent;\n",
              "      border-right-color: var(--fill-color);\n",
              "      border-bottom-color: var(--fill-color);\n",
              "    }\n",
              "    90% {\n",
              "      border-color: transparent;\n",
              "      border-bottom-color: var(--fill-color);\n",
              "    }\n",
              "  }\n",
              "</style>\n",
              "\n",
              "  <script>\n",
              "    async function quickchart(key) {\n",
              "      const quickchartButtonEl =\n",
              "        document.querySelector('#' + key + ' button');\n",
              "      quickchartButtonEl.disabled = true;  // To prevent multiple clicks.\n",
              "      quickchartButtonEl.classList.add('colab-df-spinner');\n",
              "      try {\n",
              "        const charts = await google.colab.kernel.invokeFunction(\n",
              "            'suggestCharts', [key], {});\n",
              "      } catch (error) {\n",
              "        console.error('Error during call to suggestCharts:', error);\n",
              "      }\n",
              "      quickchartButtonEl.classList.remove('colab-df-spinner');\n",
              "      quickchartButtonEl.classList.add('colab-df-quickchart-complete');\n",
              "    }\n",
              "    (() => {\n",
              "      let quickchartButtonEl =\n",
              "        document.querySelector('#df-d7e3852d-7956-4010-920f-244ab4c1a62e button');\n",
              "      quickchartButtonEl.style.display =\n",
              "        google.colab.kernel.accessAllowed ? 'block' : 'none';\n",
              "    })();\n",
              "  </script>\n",
              "</div>\n",
              "    </div>\n",
              "  </div>\n"
            ],
            "application/vnd.google.colaboratory.intrinsic+json": {
              "type": "dataframe",
              "variable_name": "dataset",
              "summary": "{\n  \"name\": \"dataset\",\n  \"rows\": 10002,\n  \"fields\": [\n    {\n      \"column\": \"RowNumber\",\n      \"properties\": {\n        \"dtype\": \"number\",\n        \"std\": 2887,\n        \"min\": 1,\n        \"max\": 10000,\n        \"num_unique_values\": 10000,\n        \"samples\": [\n          6253,\n          4685,\n          1732\n        ],\n        \"semantic_type\": \"\",\n        \"description\": \"\"\n      }\n    },\n    {\n      \"column\": \"CustomerId\",\n      \"properties\": {\n        \"dtype\": \"number\",\n        \"std\": 71931,\n        \"min\": 15565701,\n        \"max\": 15815690,\n        \"num_unique_values\": 10000,\n        \"samples\": [\n          15687492,\n          15736963,\n          15721730\n        ],\n        \"semantic_type\": \"\",\n        \"description\": \"\"\n      }\n    },\n    {\n      \"column\": \"Surname\",\n      \"properties\": {\n        \"dtype\": \"category\",\n        \"num_unique_values\": 2932,\n        \"samples\": [\n          \"McGuirk\",\n          \"Torkelson\",\n          \"Rapuluchukwu\"\n        ],\n        \"semantic_type\": \"\",\n        \"description\": \"\"\n      }\n    },\n    {\n      \"column\": \"CreditScore\",\n      \"properties\": {\n        \"dtype\": \"number\",\n        \"std\": 96,\n        \"min\": 350,\n        \"max\": 850,\n        \"num_unique_values\": 460,\n        \"samples\": [\n          754,\n          533,\n          744\n        ],\n        \"semantic_type\": \"\",\n        \"description\": \"\"\n      }\n    },\n    {\n      \"column\": \"Geography\",\n      \"properties\": {\n        \"dtype\": \"category\",\n        \"num_unique_values\": 3,\n        \"samples\": [\n          \"France\",\n          \"Spain\",\n          \"Germany\"\n        ],\n        \"semantic_type\": \"\",\n        \"description\": \"\"\n      }\n    },\n    {\n      \"column\": \"Gender\",\n      \"properties\": {\n        \"dtype\": \"category\",\n        \"num_unique_values\": 2,\n        \"samples\": [\n          \"Male\",\n          \"Female\"\n        ],\n        \"semantic_type\": \"\",\n        \"description\": \"\"\n      }\n    },\n    {\n      \"column\": \"Age\",\n      \"properties\": {\n        \"dtype\": \"number\",\n        \"std\": 10.487199862204067,\n        \"min\": 18.0,\n        \"max\": 92.0,\n        \"num_unique_values\": 73,\n        \"samples\": [\n          44.0,\n          71.0\n        ],\n        \"semantic_type\": \"\",\n        \"description\": \"\"\n      }\n    },\n    {\n      \"column\": \"Tenure\",\n      \"properties\": {\n        \"dtype\": \"number\",\n        \"std\": 2,\n        \"min\": 0,\n        \"max\": 10,\n        \"num_unique_values\": 11,\n        \"samples\": [\n          6,\n          2\n        ],\n        \"semantic_type\": \"\",\n        \"description\": \"\"\n      }\n    },\n    {\n      \"column\": \"Balance\",\n      \"properties\": {\n        \"dtype\": \"number\",\n        \"std\": 62393.47414428079,\n        \"min\": 0.0,\n        \"max\": 250898.09,\n        \"num_unique_values\": 6382,\n        \"samples\": [\n          117707.18,\n          133050.97\n        ],\n        \"semantic_type\": \"\",\n        \"description\": \"\"\n      }\n    },\n    {\n      \"column\": \"NumOfProducts\",\n      \"properties\": {\n        \"dtype\": \"number\",\n        \"std\": 0,\n        \"min\": 1,\n        \"max\": 4,\n        \"num_unique_values\": 4,\n        \"samples\": [\n          3,\n          4\n        ],\n        \"semantic_type\": \"\",\n        \"description\": \"\"\n      }\n    },\n    {\n      \"column\": \"HasCrCard\",\n      \"properties\": {\n        \"dtype\": \"number\",\n        \"std\": 0.45582718453135745,\n        \"min\": 0.0,\n        \"max\": 1.0,\n        \"num_unique_values\": 2,\n        \"samples\": [\n          0.0,\n          1.0\n        ],\n        \"semantic_type\": \"\",\n        \"description\": \"\"\n      }\n    },\n    {\n      \"column\": \"IsActiveMember\",\n      \"properties\": {\n        \"dtype\": \"number\",\n        \"std\": 0.49980148043799877,\n        \"min\": 0.0,\n        \"max\": 1.0,\n        \"num_unique_values\": 2,\n        \"samples\": [\n          0.0,\n          1.0\n        ],\n        \"semantic_type\": \"\",\n        \"description\": \"\"\n      }\n    },\n    {\n      \"column\": \"EstimatedSalary\",\n      \"properties\": {\n        \"dtype\": \"number\",\n        \"std\": 57508.117802140616,\n        \"min\": 11.58,\n        \"max\": 199992.48,\n        \"num_unique_values\": 9999,\n        \"samples\": [\n          100809.99,\n          95273.73\n        ],\n        \"semantic_type\": \"\",\n        \"description\": \"\"\n      }\n    },\n    {\n      \"column\": \"Exited\",\n      \"properties\": {\n        \"dtype\": \"number\",\n        \"std\": 0,\n        \"min\": 0,\n        \"max\": 1,\n        \"num_unique_values\": 2,\n        \"samples\": [\n          0,\n          1\n        ],\n        \"semantic_type\": \"\",\n        \"description\": \"\"\n      }\n    }\n  ]\n}"
            }
          },
          "metadata": {},
          "execution_count": 47
        }
      ]
    },
    {
      "cell_type": "code",
      "source": [
        "ax = sns.countplot(x='Exited', data = dataset)"
      ],
      "metadata": {
        "colab": {
          "base_uri": "https://localhost:8080/",
          "height": 449
        },
        "id": "ARnGbHAoJ_Bl",
        "outputId": "acf8bd64-502a-4402-ee6e-d24119ef1903"
      },
      "execution_count": null,
      "outputs": [
        {
          "output_type": "display_data",
          "data": {
            "text/plain": [
              "<Figure size 640x480 with 1 Axes>"
            ],
            "image/png": "[encoded data removed]"
          },
          "metadata": {}
        }
      ]
    },
    {
      "cell_type": "code",
      "source": [
        "\n",
        "#Descartando as colunas 'RowsNumber', 'CustumerId' e 'Surname', além de descartar as linhas com NaN\n",
        "dataset = dataset.iloc[: , 3:]\n",
        "dataset = dataset.dropna()\n",
        "\n",
        "#Tranformação das feactures categoricas\n",
        "column_transformer = make_column_transformer((OneHotEncoder(), [\"Geography\", \"Gender\"]), remainder='passthrough')\n",
        "df = column_transformer.fit_transform(dataset)\n",
        "colunas = column_transformer.get_feature_names_out()\n",
        "dataset = pd.DataFrame(data = df, columns = colunas)\n",
        "\n",
        "y = dataset['remainder__Exited']\n",
        "X = dataset.drop('remainder__Exited', axis = 1)\n",
        "\n",
        "#Normalização das feactures\n",
        "colunas = X.columns\n",
        "x = X.values\n",
        "x_scale = MinMaxScaler().fit_transform(x)\n",
        "X = pd.DataFrame(data = x_scale, columns = colunas)\n",
        "\n",
        "X.head()"
      ],
      "metadata": {
        "colab": {
          "base_uri": "https://localhost:8080/",
          "height": 226
        },
        "id": "jeWoaxd4NiAS",
        "outputId": "b0cb333c-c827-48b2-babd-856243ef0ca3"
      },
      "execution_count": null,
      "outputs": [
        {
          "output_type": "execute_result",
          "data": {
            "text/plain": [
              "   onehotencoder__Geography_France  onehotencoder__Geography_Germany  \\\n",
              "0                              1.0                               0.0   \n",
              "1                              0.0                               0.0   \n",
              "2                              1.0                               0.0   \n",
              "3                              1.0                               0.0   \n",
              "4                              0.0                               0.0   \n",
              "\n",
              "   onehotencoder__Geography_Spain  onehotencoder__Gender_Female  \\\n",
              "0                             0.0                           1.0   \n",
              "1                             1.0                           1.0   \n",
              "2                             0.0                           1.0   \n",
              "3                             0.0                           1.0   \n",
              "4                             1.0                           0.0   \n",
              "\n",
              "   onehotencoder__Gender_Male  remainder__CreditScore  remainder__Age  \\\n",
              "0                         0.0                   0.538        0.324324   \n",
              "1                         0.0                   0.516        0.310811   \n",
              "2                         0.0                   0.304        0.324324   \n",
              "3                         0.0                   0.698        0.283784   \n",
              "4                         1.0                   0.590        0.351351   \n",
              "\n",
              "   remainder__Tenure  remainder__Balance  remainder__NumOfProducts  \\\n",
              "0                0.2            0.000000                  0.000000   \n",
              "1                0.1            0.334031                  0.000000   \n",
              "2                0.8            0.636357                  0.666667   \n",
              "3                0.1            0.000000                  0.333333   \n",
              "4                0.8            0.453394                  0.333333   \n",
              "\n",
              "   remainder__HasCrCard  remainder__IsActiveMember  remainder__EstimatedSalary  \n",
              "0                   1.0                        1.0                    0.506735  \n",
              "1                   0.0                        1.0                    0.562709  \n",
              "2                   1.0                        0.0                    0.569654  \n",
              "3                   0.0                        0.0                    0.469120  \n",
              "4                   1.0                        0.0                    0.748797  "
            ],
            "text/html": [
              "\n",
              "  <div id=\"df-caa0c963-887f-4657-8e93-cae168113607\" class=\"colab-df-container\">\n",
              "    <div>\n",
              "<style scoped>\n",
              "    .dataframe tbody tr th:only-of-type {\n",
              "        vertical-align: middle;\n",
              "    }\n",
              "\n",
              "    .dataframe tbody tr th {\n",
              "        vertical-align: top;\n",
              "    }\n",
              "\n",
              "    .dataframe thead th {\n",
              "        text-align: right;\n",
              "    }\n",
              "</style>\n",
              "<table border=\"1\" class=\"dataframe\">\n",
              "  <thead>\n",
              "    <tr style=\"text-align: right;\">\n",
              "      <th></th>\n",
              "      <th>onehotencoder__Geography_France</th>\n",
              "      <th>onehotencoder__Geography_Germany</th>\n",
              "      <th>onehotencoder__Geography_Spain</th>\n",
              "      <th>onehotencoder__Gender_Female</th>\n",
              "      <th>onehotencoder__Gender_Male</th>\n",
              "      <th>remainder__CreditScore</th>\n",
              "      <th>remainder__Age</th>\n",
              "      <th>remainder__Tenure</th>\n",
              "      <th>remainder__Balance</th>\n",
              "      <th>remainder__NumOfProducts</th>\n",
              "      <th>remainder__HasCrCard</th>\n",
              "      <th>remainder__IsActiveMember</th>\n",
              "      <th>remainder__EstimatedSalary</th>\n",
              "    </tr>\n",
              "  </thead>\n",
              "  <tbody>\n",
              "    <tr>\n",
              "      <th>0</th>\n",
              "      <td>1.0</td>\n",
              "      <td>0.0</td>\n",
              "      <td>0.0</td>\n",
              "      <td>1.0</td>\n",
              "      <td>0.0</td>\n",
              "      <td>0.538</td>\n",
              "      <td>0.324324</td>\n",
              "      <td>0.2</td>\n",
              "      <td>0.000000</td>\n",
              "      <td>0.000000</td>\n",
              "      <td>1.0</td>\n",
              "      <td>1.0</td>\n",
              "      <td>0.506735</td>\n",
              "    </tr>\n",
              "    <tr>\n",
              "      <th>1</th>\n",
              "      <td>0.0</td>\n",
              "      <td>0.0</td>\n",
              "      <td>1.0</td>\n",
              "      <td>1.0</td>\n",
              "      <td>0.0</td>\n",
              "      <td>0.516</td>\n",
              "      <td>0.310811</td>\n",
              "      <td>0.1</td>\n",
              "      <td>0.334031</td>\n",
              "      <td>0.000000</td>\n",
              "      <td>0.0</td>\n",
              "      <td>1.0</td>\n",
              "      <td>0.562709</td>\n",
              "    </tr>\n",
              "    <tr>\n",
              "      <th>2</th>\n",
              "      <td>1.0</td>\n",
              "      <td>0.0</td>\n",
              "      <td>0.0</td>\n",
              "      <td>1.0</td>\n",
              "      <td>0.0</td>\n",
              "      <td>0.304</td>\n",
              "      <td>0.324324</td>\n",
              "      <td>0.8</td>\n",
              "      <td>0.636357</td>\n",
              "      <td>0.666667</td>\n",
              "      <td>1.0</td>\n",
              "      <td>0.0</td>\n",
              "      <td>0.569654</td>\n",
              "    </tr>\n",
              "    <tr>\n",
              "      <th>3</th>\n",
              "      <td>1.0</td>\n",
              "      <td>0.0</td>\n",
              "      <td>0.0</td>\n",
              "      <td>1.0</td>\n",
              "      <td>0.0</td>\n",
              "      <td>0.698</td>\n",
              "      <td>0.283784</td>\n",
              "      <td>0.1</td>\n",
              "      <td>0.000000</td>\n",
              "      <td>0.333333</td>\n",
              "      <td>0.0</td>\n",
              "      <td>0.0</td>\n",
              "      <td>0.469120</td>\n",
              "    </tr>\n",
              "    <tr>\n",
              "      <th>4</th>\n",
              "      <td>0.0</td>\n",
              "      <td>0.0</td>\n",
              "      <td>1.0</td>\n",
              "      <td>0.0</td>\n",
              "      <td>1.0</td>\n",
              "      <td>0.590</td>\n",
              "      <td>0.351351</td>\n",
              "      <td>0.8</td>\n",
              "      <td>0.453394</td>\n",
              "      <td>0.333333</td>\n",
              "      <td>1.0</td>\n",
              "      <td>0.0</td>\n",
              "      <td>0.748797</td>\n",
              "    </tr>\n",
              "  </tbody>\n",
              "</table>\n",
              "</div>\n",
              "    <div class=\"colab-df-buttons\">\n",
              "\n",
              "  <div class=\"colab-df-container\">\n",
              "    <button class=\"colab-df-convert\" onclick=\"convertToInteractive('df-caa0c963-887f-4657-8e93-cae168113607')\"\n",
              "            title=\"Convert this dataframe to an interactive table.\"\n",
              "            style=\"display:none;\">\n",
              "\n",
              "  <svg xmlns=\"http://www.w3.org/2000/svg\" height=\"24px\" viewBox=\"0 -960 960 960\">\n",
              "    <path d=\"M120-120v-720h720v720H120Zm60-500h600v-160H180v160Zm220 220h160v-160H400v160Zm0 220h160v-160H400v160ZM180-400h160v-160H180v160Zm440 0h160v-160H620v160ZM180-180h160v-160H180v160Zm440 0h160v-160H620v160Z\"/>\n",
              "  </svg>\n",
              "    </button>\n",
              "\n",
              "  <style>\n",
              "    .colab-df-container {\n",
              "      display:flex;\n",
              "      gap: 12px;\n",
              "    }\n",
              "\n",
              "    .colab-df-convert {\n",
              "      background-color: #E8F0FE;\n",
              "      border: none;\n",
              "      border-radius: 50%;\n",
              "      cursor: pointer;\n",
              "      display: none;\n",
              "      fill: #1967D2;\n",
              "      height: 32px;\n",
              "      padding: 0 0 0 0;\n",
              "      width: 32px;\n",
              "    }\n",
              "\n",
              "    .colab-df-convert:hover {\n",
              "      background-color: #E2EBFA;\n",
              "      box-shadow: 0px 1px 2px rgba(60, 64, 67, 0.3), 0px 1px 3px 1px rgba(60, 64, 67, 0.15);\n",
              "      fill: #174EA6;\n",
              "    }\n",
              "\n",
              "    .colab-df-buttons div {\n",
              "      margin-bottom: 4px;\n",
              "    }\n",
              "\n",
              "    [theme=dark] .colab-df-convert {\n",
              "      background-color: #3B4455;\n",
              "      fill: #D2E3FC;\n",
              "    }\n",
              "\n",
              "    [theme=dark] .colab-df-convert:hover {\n",
              "      background-color: #434B5C;\n",
              "      box-shadow: 0px 1px 3px 1px rgba(0, 0, 0, 0.15);\n",
              "      filter: drop-shadow(0px 1px 2px rgba(0, 0, 0, 0.3));\n",
              "      fill: #FFFFFF;\n",
              "    }\n",
              "  </style>\n",
              "\n",
              "    <script>\n",
              "      const buttonEl =\n",
              "        document.querySelector('#df-caa0c963-887f-4657-8e93-cae168113607 button.colab-df-convert');\n",
              "      buttonEl.style.display =\n",
              "        google.colab.kernel.accessAllowed ? 'block' : 'none';\n",
              "\n",
              "      async function convertToInteractive(key) {\n",
              "        const element = document.querySelector('#df-caa0c963-887f-4657-8e93-cae168113607');\n",
              "        const dataTable =\n",
              "          await google.colab.kernel.invokeFunction('convertToInteractive',\n",
              "                                                    [key], {});\n",
              "        if (!dataTable) return;\n",
              "\n",
              "        const docLinkHtml = 'Like what you see? Visit the ' +\n",
              "          '<a target=\"_blank\" href=https://colab.research.google.com/notebooks/data_table.ipynb>data table notebook</a>'\n",
              "          + ' to learn more about interactive tables.';\n",
              "        element.innerHTML = '';\n",
              "        dataTable['output_type'] = 'display_data';\n",
              "        await google.colab.output.renderOutput(dataTable, element);\n",
              "        const docLink = document.createElement('div');\n",
              "        docLink.innerHTML = docLinkHtml;\n",
              "        element.appendChild(docLink);\n",
              "      }\n",
              "    </script>\n",
              "  </div>\n",
              "\n",
              "\n",
              "<div id=\"df-eb770faa-fdec-4aed-b0ae-b53a26de2b47\">\n",
              "  <button class=\"colab-df-quickchart\" onclick=\"quickchart('df-eb770faa-fdec-4aed-b0ae-b53a26de2b47')\"\n",
              "            title=\"Suggest charts\"\n",
              "            style=\"display:none;\">\n",
              "\n",
              "<svg xmlns=\"http://www.w3.org/2000/svg\" height=\"24px\"viewBox=\"0 0 24 24\"\n",
              "     width=\"24px\">\n",
              "    <g>\n",
              "        <path d=\"M19 3H5c-1.1 0-2 .9-2 2v14c0 1.1.9 2 2 2h14c1.1 0 2-.9 2-2V5c0-1.1-.9-2-2-2zM9 17H7v-7h2v7zm4 0h-2V7h2v10zm4 0h-2v-4h2v4z\"/>\n",
              "    </g>\n",
              "</svg>\n",
              "  </button>\n",
              "\n",
              "<style>\n",
              "  .colab-df-quickchart {\n",
              "      --bg-color: #E8F0FE;\n",
              "      --fill-color: #1967D2;\n",
              "      --hover-bg-color: #E2EBFA;\n",
              "      --hover-fill-color: #174EA6;\n",
              "      --disabled-fill-color: #AAA;\n",
              "      --disabled-bg-color: #DDD;\n",
              "  }\n",
              "\n",
              "  [theme=dark] .colab-df-quickchart {\n",
              "      --bg-color: #3B4455;\n",
              "      --fill-color: #D2E3FC;\n",
              "      --hover-bg-color: #434B5C;\n",
              "      --hover-fill-color: #FFFFFF;\n",
              "      --disabled-bg-color: #3B4455;\n",
              "      --disabled-fill-color: #666;\n",
              "  }\n",
              "\n",
              "  .colab-df-quickchart {\n",
              "    background-color: var(--bg-color);\n",
              "    border: none;\n",
              "    border-radius: 50%;\n",
              "    cursor: pointer;\n",
              "    display: none;\n",
              "    fill: var(--fill-color);\n",
              "    height: 32px;\n",
              "    padding: 0;\n",
              "    width: 32px;\n",
              "  }\n",
              "\n",
              "  .colab-df-quickchart:hover {\n",
              "    background-color: var(--hover-bg-color);\n",
              "    box-shadow: 0 1px 2px rgba(60, 64, 67, 0.3), 0 1px 3px 1px rgba(60, 64, 67, 0.15);\n",
              "    fill: var(--button-hover-fill-color);\n",
              "  }\n",
              "\n",
              "  .colab-df-quickchart-complete:disabled,\n",
              "  .colab-df-quickchart-complete:disabled:hover {\n",
              "    background-color: var(--disabled-bg-color);\n",
              "    fill: var(--disabled-fill-color);\n",
              "    box-shadow: none;\n",
              "  }\n",
              "\n",
              "  .colab-df-spinner {\n",
              "    border: 2px solid var(--fill-color);\n",
              "    border-color: transparent;\n",
              "    border-bottom-color: var(--fill-color);\n",
              "    animation:\n",
              "      spin 1s steps(1) infinite;\n",
              "  }\n",
              "\n",
              "  @keyframes spin {\n",
              "    0% {\n",
              "      border-color: transparent;\n",
              "      border-bottom-color: var(--fill-color);\n",
              "      border-left-color: var(--fill-color);\n",
              "    }\n",
              "    20% {\n",
              "      border-color: transparent;\n",
              "      border-left-color: var(--fill-color);\n",
              "      border-top-color: var(--fill-color);\n",
              "    }\n",
              "    30% {\n",
              "      border-color: transparent;\n",
              "      border-left-color: var(--fill-color);\n",
              "      border-top-color: var(--fill-color);\n",
              "      border-right-color: var(--fill-color);\n",
              "    }\n",
              "    40% {\n",
              "      border-color: transparent;\n",
              "      border-right-color: var(--fill-color);\n",
              "      border-top-color: var(--fill-color);\n",
              "    }\n",
              "    60% {\n",
              "      border-color: transparent;\n",
              "      border-right-color: var(--fill-color);\n",
              "    }\n",
              "    80% {\n",
              "      border-color: transparent;\n",
              "      border-right-color: var(--fill-color);\n",
              "      border-bottom-color: var(--fill-color);\n",
              "    }\n",
              "    90% {\n",
              "      border-color: transparent;\n",
              "      border-bottom-color: var(--fill-color);\n",
              "    }\n",
              "  }\n",
              "</style>\n",
              "\n",
              "  <script>\n",
              "    async function quickchart(key) {\n",
              "      const quickchartButtonEl =\n",
              "        document.querySelector('#' + key + ' button');\n",
              "      quickchartButtonEl.disabled = true;  // To prevent multiple clicks.\n",
              "      quickchartButtonEl.classList.add('colab-df-spinner');\n",
              "      try {\n",
              "        const charts = await google.colab.kernel.invokeFunction(\n",
              "            'suggestCharts', [key], {});\n",
              "      } catch (error) {\n",
              "        console.error('Error during call to suggestCharts:', error);\n",
              "      }\n",
              "      quickchartButtonEl.classList.remove('colab-df-spinner');\n",
              "      quickchartButtonEl.classList.add('colab-df-quickchart-complete');\n",
              "    }\n",
              "    (() => {\n",
              "      let quickchartButtonEl =\n",
              "        document.querySelector('#df-eb770faa-fdec-4aed-b0ae-b53a26de2b47 button');\n",
              "      quickchartButtonEl.style.display =\n",
              "        google.colab.kernel.accessAllowed ? 'block' : 'none';\n",
              "    })();\n",
              "  </script>\n",
              "</div>\n",
              "    </div>\n",
              "  </div>\n"
            ],
            "application/vnd.google.colaboratory.intrinsic+json": {
              "type": "dataframe",
              "variable_name": "X",
              "summary": "{\n  \"name\": \"X\",\n  \"rows\": 9998,\n  \"fields\": [\n    {\n      \"column\": \"onehotencoder__Geography_France\",\n      \"properties\": {\n        \"dtype\": \"number\",\n        \"std\": 0.5000233161132883,\n        \"min\": 0.0,\n        \"max\": 1.0,\n        \"num_unique_values\": 2,\n        \"samples\": [\n          0.0,\n          1.0\n        ],\n        \"semantic_type\": \"\",\n        \"description\": \"\"\n      }\n    },\n    {\n      \"column\": \"onehotencoder__Geography_Germany\",\n      \"properties\": {\n        \"dtype\": \"number\",\n        \"std\": 0.4336390320560324,\n        \"min\": 0.0,\n        \"max\": 1.0,\n        \"num_unique_values\": 2,\n        \"samples\": [\n          1.0,\n          0.0\n        ],\n        \"semantic_type\": \"\",\n        \"description\": \"\"\n      }\n    },\n    {\n      \"column\": \"onehotencoder__Geography_Spain\",\n      \"properties\": {\n        \"dtype\": \"number\",\n        \"std\": 0.43166871297165677,\n        \"min\": 0.0,\n        \"max\": 1.0,\n        \"num_unique_values\": 2,\n        \"samples\": [\n          1.0,\n          0.0\n        ],\n        \"semantic_type\": \"\",\n        \"description\": \"\"\n      }\n    },\n    {\n      \"column\": \"onehotencoder__Gender_Female\",\n      \"properties\": {\n        \"dtype\": \"number\",\n        \"std\": 0.4979403653320717,\n        \"min\": 0.0,\n        \"max\": 1.0,\n        \"num_unique_values\": 2,\n        \"samples\": [\n          0.0,\n          1.0\n        ],\n        \"semantic_type\": \"\",\n        \"description\": \"\"\n      }\n    },\n    {\n      \"column\": \"onehotencoder__Gender_Male\",\n      \"properties\": {\n        \"dtype\": \"number\",\n        \"std\": 0.4979403653320717,\n        \"min\": 0.0,\n        \"max\": 1.0,\n        \"num_unique_values\": 2,\n        \"samples\": [\n          1.0,\n          0.0\n        ],\n        \"semantic_type\": \"\",\n        \"description\": \"\"\n      }\n    },\n    {\n      \"column\": \"remainder__CreditScore\",\n      \"properties\": {\n        \"dtype\": \"number\",\n        \"std\": 0.19326600585556875,\n        \"min\": 0.0,\n        \"max\": 0.9999999999999999,\n        \"num_unique_values\": 460,\n        \"samples\": [\n          0.7319999999999999,\n          0.25\n        ],\n        \"semantic_type\": \"\",\n        \"description\": \"\"\n      }\n    },\n    {\n      \"column\": \"remainder__Age\",\n      \"properties\": {\n        \"dtype\": \"number\",\n        \"std\": 0.14172953622705337,\n        \"min\": 0.0,\n        \"max\": 1.0000000000000002,\n        \"num_unique_values\": 73,\n        \"samples\": [\n          0.14864864864864863,\n          0.7162162162162162\n        ],\n        \"semantic_type\": \"\",\n        \"description\": \"\"\n      }\n    },\n    {\n      \"column\": \"remainder__Tenure\",\n      \"properties\": {\n        \"dtype\": \"number\",\n        \"std\": 0.2892151505072258,\n        \"min\": 0.0,\n        \"max\": 1.0,\n        \"num_unique_values\": 11,\n        \"samples\": [\n          0.30000000000000004,\n          0.2\n        ],\n        \"semantic_type\": \"\",\n        \"description\": \"\"\n      }\n    },\n    {\n      \"column\": \"remainder__Balance\",\n      \"properties\": {\n        \"dtype\": \"number\",\n        \"std\": 0.24867940220172974,\n        \"min\": 0.0,\n        \"max\": 1.0,\n        \"num_unique_values\": 6379,\n        \"samples\": [\n          0.6250918052026623,\n          0.6440573541233415\n        ],\n        \"semantic_type\": \"\",\n        \"description\": \"\"\n      }\n    },\n    {\n      \"column\": \"remainder__NumOfProducts\",\n      \"properties\": {\n        \"dtype\": \"number\",\n        \"std\": 0.1938897966885407,\n        \"min\": 0.0,\n        \"max\": 1.0,\n        \"num_unique_values\": 4,\n        \"samples\": [\n          0.6666666666666667,\n          1.0\n        ],\n        \"semantic_type\": \"\",\n        \"description\": \"\"\n      }\n    },\n    {\n      \"column\": \"remainder__HasCrCard\",\n      \"properties\": {\n        \"dtype\": \"number\",\n        \"std\": 0.45582193272237054,\n        \"min\": 0.0,\n        \"max\": 1.0,\n        \"num_unique_values\": 2,\n        \"samples\": [\n          0.0,\n          1.0\n        ],\n        \"semantic_type\": \"\",\n        \"description\": \"\"\n      }\n    },\n    {\n      \"column\": \"remainder__IsActiveMember\",\n      \"properties\": {\n        \"dtype\": \"number\",\n        \"std\": 0.4998058202348376,\n        \"min\": 0.0,\n        \"max\": 1.0,\n        \"num_unique_values\": 2,\n        \"samples\": [\n          0.0,\n          1.0\n        ],\n        \"semantic_type\": \"\",\n        \"description\": \"\"\n      }\n    },\n    {\n      \"column\": \"remainder__EstimatedSalary\",\n      \"properties\": {\n        \"dtype\": \"number\",\n        \"std\": 0.2875821639071419,\n        \"min\": 0.0,\n        \"max\": 1.0,\n        \"num_unique_values\": 9995,\n        \"samples\": [\n          0.2587277084961614,\n          0.6070428225895573\n        ],\n        \"semantic_type\": \"\",\n        \"description\": \"\"\n      }\n    }\n  ]\n}"
            }
          },
          "metadata": {},
          "execution_count": 7
        }
      ]
    },
    {
      "cell_type": "code",
      "source": [
        "\n",
        "nr = NearMiss()\n",
        "\n",
        "X, y = nr.fit_resample(X,y)\n",
        "\n",
        "ax = sns.countplot(x = y)"
      ],
      "metadata": {
        "colab": {
          "base_uri": "https://localhost:8080/",
          "height": 450
        },
        "id": "HfkyaAE1RDhu",
        "outputId": "1a496d93-7108-44ad-fc33-766b21889137"
      },
      "execution_count": null,
      "outputs": [
        {
          "output_type": "display_data",
          "data": {
            "text/plain": [
              "<Figure size 640x480 with 1 Axes>"
            ],
            "image/png": "[encoded data removed]"
          },
          "metadata": {}
        }
      ]
    },
    {
      "cell_type": "markdown",
      "source": [
        "#Criação dos Folds"
      ],
      "metadata": {
        "id": "Ihwt6Ovza7gg"
      }
    },
    {
      "cell_type": "code",
      "source": [
        "#Quantidade de folds\n",
        "folds = 10\n",
        "\n",
        "#Função que recebe o X e o y e retorna as quatro listas com os folds de treinamento e de test\n",
        "def generate_folds_lists(Features, Target):\n",
        "  X_new = np.array(Features)\n",
        "  y_new = np.array(Target)\n",
        "\n",
        "  kf = StratifiedKFold(n_splits = folds)\n",
        "\n",
        "  #Listas para as estratificações de treinamento e de teste\n",
        "  X_train_list = []\n",
        "  y_train_list = []\n",
        "\n",
        "  X_test_list = []\n",
        "  y_test_list = []\n",
        "\n",
        "  #Gerando as estratificações\n",
        "  for train_index, test_index in kf.split(X_new, y_new):\n",
        "    X_train_list.append(X_new[train_index])\n",
        "    X_test_list.append(X_new[test_index])\n",
        "\n",
        "    y_train_list.append(y_new[train_index])\n",
        "    y_test_list.append(y_new[test_index])\n",
        "\n",
        "  return X_train_list, y_train_list, X_test_list, y_test_list\n",
        "\n",
        "X_train, y_train, X_test, y_test = generate_folds_lists(X,y)\n"
      ],
      "metadata": {
        "id": "pqSEzCPbtZvM"
      },
      "execution_count": null,
      "outputs": []
    },
    {
      "cell_type": "markdown",
      "source": [
        "#Treinamento dos Modelos"
      ],
      "metadata": {
        "id": "jD0Kb2lAbRvp"
      }
    },
    {
      "cell_type": "markdown",
      "source": [
        "## Primeiros modelos"
      ],
      "metadata": {
        "id": "LVyuMb6C4i2N"
      }
    },
    {
      "cell_type": "code",
      "source": [
        "#Tupla com os nomes da métricas\n",
        "metrics_tupla = (\"accuracy\", \"precision\", \"recal\", \"specificity\", \"auc\")\n",
        "\n",
        "#modelo de dicinário com as métricas inicializadas\n",
        "results = {\"accuracy\" : 0, \"precision\" : 0, \"recal\": 0, \"specificity\":0, \"auc\" : 0}\n",
        "\n",
        "\n",
        "models_names = [\"tree1\", \"tree2\", \"tree3\", \"knn1\", \"knn2\", \"knn3\", \"svm1\", \"svm2\", \"svm3\", \"gradientboosting\", \"xgboost\", \"lightgbm\"]\n",
        "\n",
        "# Criando O dicionário\n",
        "models = {}\n",
        "\n",
        "for model in models_names:\n",
        "  models[model] = {}\n",
        "\n",
        "##Definição dos parâmetros e dos tipos dos modelos\n",
        "\n",
        "#Arvores de Decisão\n",
        "models[\"tree1\"][\"params\"] = {\"max_depth\" : 30}\n",
        "models[\"tree1\"][\"type\"] = 1\n",
        "models[\"tree2\"][\"params\"] = {\"criterion\" : \"entropy\", \"max_depth\" : 12}\n",
        "models[\"tree2\"][\"type\"] = 1\n",
        "models[\"tree3\"][\"params\"] = {\"criterion\" : 'log_loss', \"max_depth\" : 8, \"max_features\" : \"sqrt\"}\n",
        "models[\"tree3\"][\"type\"] = 1\n",
        "\n",
        "#KNNs\n",
        "models[\"knn1\"][\"params\"] = {\"n_neighbors\" : 20, \"metric\" : 'euclidean'}\n",
        "models[\"knn1\"][\"type\"] = 2\n",
        "models[\"knn2\"][\"params\"] = {\"weights\" : 'distance', \"algorithm\" : 'brute'}\n",
        "models[\"knn2\"][\"type\"] = 2\n",
        "models[\"knn3\"][\"params\"] = {\"n_neighbors\" : 12, \"weights\" : 'distance'}\n",
        "models[\"knn3\"][\"type\"] = 2\n",
        "\n",
        "#SVMs\n",
        "models[\"svm1\"][\"params\"] = {\"kernel\" : 'linear', \"C\" : 1.0}\n",
        "models[\"svm1\"][\"type\"] = 3\n",
        "models[\"svm2\"][\"params\"] = {\"kernel\" : \"rbf\", \"gamma\" : 0.7, \"C\" : 1.0}\n",
        "models[\"svm2\"][\"type\"] = 3\n",
        "models[\"svm3\"][\"params\"] = {\"kernel\" : \"poly\", \"degree\" : 2, \"gamma\" : \"auto\", \"C\" : 1.0}\n",
        "models[\"svm3\"][\"type\"] = 3\n",
        "\n",
        "#Acrecimo dos modelos GradientBooting, XGBoost e LightGBM\n",
        "models[\"gradientboosting\"][\"params\"] = {\"n_estimators\" : 50}\n",
        "models[\"gradientboosting\"][\"type\"] = 4\n",
        "\n",
        "models[\"xgboost\"][\"params\"] = {}\n",
        "models[\"xgboost\"][\"type\"] = 5\n",
        "\n",
        "models[\"lightgbm\"][\"params\"] = {}\n",
        "models[\"lightgbm\"][\"type\"] = 6\n",
        "\n",
        "for model in models_names:\n",
        "  models[model][\"metrics\"] = results.copy()\n",
        "\n",
        "#pprint.pp(models)"
      ],
      "metadata": {
        "id": "BUozdc4fBKTC",
        "collapsed": true
      },
      "execution_count": null,
      "outputs": []
    },
    {
      "cell_type": "code",
      "source": [
        "models = super_function(models, models_names, False, X_train, y_train, X_test, y_test)\n"
      ],
      "metadata": {
        "colab": {
          "base_uri": "https://localhost:8080/"
        },
        "id": "Yk4-kvyYjrKJ",
        "outputId": "4da0bcae-e9e8-4a36-c2e9-db238db44b3f",
        "collapsed": true
      },
      "execution_count": null,
      "outputs": [
        {
          "output_type": "stream",
          "name": "stdout",
          "text": [
            "[LightGBM] [Info] Number of positive: 1834, number of negative: 1834\n",
            "[LightGBM] [Info] Auto-choosing row-wise multi-threading, the overhead of testing was 0.000603 seconds.\n",
            "You can set `force_row_wise=true` to remove the overhead.\n",
            "And if memory is not enough, you can set `force_col_wise=true`.\n",
            "[LightGBM] [Info] Total Bins 849\n",
            "[LightGBM] [Info] Number of data points in the train set: 3668, number of used features: 13\n",
            "[LightGBM] [Info] [binary:BoostFromScore]: pavg=0.500000 -> initscore=0.000000\n",
            "[LightGBM] [Info] Number of positive: 1834, number of negative: 1834\n",
            "[LightGBM] [Info] Auto-choosing row-wise multi-threading, the overhead of testing was 0.000394 seconds.\n",
            "You can set `force_row_wise=true` to remove the overhead.\n",
            "And if memory is not enough, you can set `force_col_wise=true`.\n",
            "[LightGBM] [Info] Total Bins 848\n",
            "[LightGBM] [Info] Number of data points in the train set: 3668, number of used features: 13\n",
            "[LightGBM] [Info] [binary:BoostFromScore]: pavg=0.500000 -> initscore=0.000000\n",
            "[LightGBM] [Info] Number of positive: 1834, number of negative: 1834\n",
            "[LightGBM] [Info] Auto-choosing row-wise multi-threading, the overhead of testing was 0.000395 seconds.\n",
            "You can set `force_row_wise=true` to remove the overhead.\n",
            "And if memory is not enough, you can set `force_col_wise=true`.\n",
            "[LightGBM] [Info] Total Bins 849\n",
            "[LightGBM] [Info] Number of data points in the train set: 3668, number of used features: 13\n",
            "[LightGBM] [Info] [binary:BoostFromScore]: pavg=0.500000 -> initscore=0.000000\n",
            "[LightGBM] [Info] Number of positive: 1834, number of negative: 1834\n",
            "[LightGBM] [Info] Auto-choosing row-wise multi-threading, the overhead of testing was 0.000406 seconds.\n",
            "You can set `force_row_wise=true` to remove the overhead.\n",
            "And if memory is not enough, you can set `force_col_wise=true`.\n",
            "[LightGBM] [Info] Total Bins 847\n",
            "[LightGBM] [Info] Number of data points in the train set: 3668, number of used features: 13\n",
            "[LightGBM] [Info] [binary:BoostFromScore]: pavg=0.500000 -> initscore=0.000000\n",
            "[LightGBM] [Info] Number of positive: 1834, number of negative: 1834\n",
            "[LightGBM] [Info] Auto-choosing row-wise multi-threading, the overhead of testing was 0.000451 seconds.\n",
            "You can set `force_row_wise=true` to remove the overhead.\n",
            "And if memory is not enough, you can set `force_col_wise=true`.\n",
            "[LightGBM] [Info] Total Bins 849\n",
            "[LightGBM] [Info] Number of data points in the train set: 3668, number of used features: 13\n",
            "[LightGBM] [Info] [binary:BoostFromScore]: pavg=0.500000 -> initscore=0.000000\n",
            "[LightGBM] [Info] Number of positive: 1834, number of negative: 1834\n",
            "[LightGBM] [Info] Auto-choosing row-wise multi-threading, the overhead of testing was 0.000387 seconds.\n",
            "You can set `force_row_wise=true` to remove the overhead.\n",
            "And if memory is not enough, you can set `force_col_wise=true`.\n",
            "[LightGBM] [Info] Total Bins 849\n",
            "[LightGBM] [Info] Number of data points in the train set: 3668, number of used features: 13\n",
            "[LightGBM] [Info] [binary:BoostFromScore]: pavg=0.500000 -> initscore=0.000000\n",
            "[LightGBM] [Info] Number of positive: 1835, number of negative: 1834\n",
            "[LightGBM] [Info] Auto-choosing row-wise multi-threading, the overhead of testing was 0.000434 seconds.\n",
            "You can set `force_row_wise=true` to remove the overhead.\n",
            "And if memory is not enough, you can set `force_col_wise=true`.\n",
            "[LightGBM] [Info] Total Bins 849\n",
            "[LightGBM] [Info] Number of data points in the train set: 3669, number of used features: 13\n",
            "[LightGBM] [Info] [binary:BoostFromScore]: pavg=0.500136 -> initscore=0.000545\n",
            "[LightGBM] [Info] Start training from score 0.000545\n",
            "[LightGBM] [Info] Number of positive: 1835, number of negative: 1834\n",
            "[LightGBM] [Info] Auto-choosing row-wise multi-threading, the overhead of testing was 0.000392 seconds.\n",
            "You can set `force_row_wise=true` to remove the overhead.\n",
            "And if memory is not enough, you can set `force_col_wise=true`.\n",
            "[LightGBM] [Info] Total Bins 848\n",
            "[LightGBM] [Info] Number of data points in the train set: 3669, number of used features: 13\n",
            "[LightGBM] [Info] [binary:BoostFromScore]: pavg=0.500136 -> initscore=0.000545\n",
            "[LightGBM] [Info] Start training from score 0.000545\n",
            "[LightGBM] [Info] Number of positive: 1834, number of negative: 1835\n",
            "[LightGBM] [Info] Auto-choosing row-wise multi-threading, the overhead of testing was 0.000418 seconds.\n",
            "You can set `force_row_wise=true` to remove the overhead.\n",
            "And if memory is not enough, you can set `force_col_wise=true`.\n",
            "[LightGBM] [Info] Total Bins 849\n",
            "[LightGBM] [Info] Number of data points in the train set: 3669, number of used features: 13\n",
            "[LightGBM] [Info] [binary:BoostFromScore]: pavg=0.499864 -> initscore=-0.000545\n",
            "[LightGBM] [Info] Start training from score -0.000545\n",
            "[LightGBM] [Info] Number of positive: 1834, number of negative: 1835\n",
            "[LightGBM] [Info] Auto-choosing row-wise multi-threading, the overhead of testing was 0.000521 seconds.\n",
            "You can set `force_row_wise=true` to remove the overhead.\n",
            "And if memory is not enough, you can set `force_col_wise=true`.\n",
            "[LightGBM] [Info] Total Bins 849\n",
            "[LightGBM] [Info] Number of data points in the train set: 3669, number of used features: 13\n",
            "[LightGBM] [Info] [binary:BoostFromScore]: pavg=0.499864 -> initscore=-0.000545\n",
            "[LightGBM] [Info] Start training from score -0.000545\n"
          ]
        }
      ]
    },
    {
      "cell_type": "code",
      "source": [
        "pprint.pp(models)"
      ],
      "metadata": {
        "colab": {
          "base_uri": "https://localhost:8080/"
        },
        "id": "FIeYKm1tg14F",
        "outputId": "54139aa1-eca1-49d7-9ec8-236bda3f233d"
      },
      "execution_count": null,
      "outputs": [
        {
          "output_type": "stream",
          "name": "stdout",
          "text": [
            "{'tree1': {'params': {'max_depth': 30},\n",
            "           'type': 1,\n",
            "           'metrics': {'accuracy': 0.6584899070193189,\n",
            "                       'precision': 0.6555213269077286,\n",
            "                       'recal': 0.6707910750507099,\n",
            "                       'specificity': 0.6462160726359509,\n",
            "                       'auc': 0.6585035738433305},\n",
            "           'model': DecisionTreeClassifier(max_depth=30)},\n",
            " 'tree2': {'params': {'criterion': 'entropy', 'max_depth': 12},\n",
            "           'type': 1,\n",
            "           'metrics': {'accuracy': 0.692334513658043,\n",
            "                       'precision': 0.7272020244362353,\n",
            "                       'recal': 0.6197720467497344,\n",
            "                       'specificity': 0.7649787501207379,\n",
            "                       'auc': 0.6923753984352362},\n",
            "           'model': DecisionTreeClassifier(criterion='entropy', max_depth=12)},\n",
            " 'tree3': {'params': {'criterion': 'log_loss',\n",
            "                      'max_depth': 8,\n",
            "                      'max_features': 'sqrt'},\n",
            "           'type': 1,\n",
            "           'metrics': {'accuracy': 0.7080424676012911,\n",
            "                       'precision': 0.7491607753467614,\n",
            "                       'recal': 0.6310417270356419,\n",
            "                       'specificity': 0.785021249879262,\n",
            "                       'auc': 0.7080314884574518},\n",
            "           'model': DecisionTreeClassifier(criterion='log_loss', max_depth=8, max_features='sqrt')},\n",
            " 'knn1': {'params': {'n_neighbors': 20, 'metric': 'euclidean'},\n",
            "          'type': 2,\n",
            "          'metrics': {'accuracy': 0.6391337861926096,\n",
            "                      'precision': 0.7198538759486668,\n",
            "                      'recal': 0.46809378923983386,\n",
            "                      'specificity': 0.8101637206606781,\n",
            "                      'auc': 0.6391287549502559},\n",
            "          'model': KNeighborsClassifier(metric='euclidean', n_neighbors=20)},\n",
            " 'knn2': {'params': {'weights': 'distance', 'algorithm': 'brute'},\n",
            "          'type': 2,\n",
            "          'metrics': {'accuracy': 0.6217360408536879,\n",
            "                      'precision': 0.6651796011301898,\n",
            "                      'recal': 0.5309161595672752,\n",
            "                      'specificity': 0.7125615763546799,\n",
            "                      'auc': 0.6217388679609775},\n",
            "          'model': KNeighborsClassifier(algorithm='brute', weights='distance')},\n",
            " 'knn3': {'params': {'n_neighbors': 12, 'weights': 'distance'},\n",
            "          'type': 2,\n",
            "          'metrics': {'accuracy': 0.6442928891458304,\n",
            "                      'precision': 0.7013622188911666,\n",
            "                      'recal': 0.5255119289094948,\n",
            "                      'specificity': 0.7630735052641746,\n",
            "                      'auc': 0.6442927170868348},\n",
            "          'model': KNeighborsClassifier(n_neighbors=12, weights='distance')},\n",
            " 'svm1': {'params': {'kernel': 'linear', 'C': 1.0},\n",
            "          'type': 3,\n",
            "          'metrics': {'accuracy': 0.709744303126656,\n",
            "                      'precision': 0.7317319004288942,\n",
            "                      'recal': 0.661909591422776,\n",
            "                      'specificity': 0.7575799285231335,\n",
            "                      'auc': 0.7097447599729547},\n",
            "          'model': SVC(kernel='linear')},\n",
            " 'svm2': {'params': {'kernel': 'rbf', 'gamma': 0.7, 'C': 1.0},\n",
            "          'type': 3,\n",
            "          'metrics': {'accuracy': 0.7195849592908417,\n",
            "                      'precision': 0.7455413699614686,\n",
            "                      'recal': 0.6683038732734472,\n",
            "                      'specificity': 0.7708635178209214,\n",
            "                      'auc': 0.7195836955471843},\n",
            "          'model': SVC(gamma=0.7)},\n",
            " 'svm3': {'params': {'kernel': 'poly', 'degree': 2, 'gamma': 'auto', 'C': 1.0},\n",
            "          'type': 3,\n",
            "          'metrics': {'accuracy': 0.6724550753962517,\n",
            "                      'precision': 0.6875646310838108,\n",
            "                      'recal': 0.6349463923500435,\n",
            "                      'specificity': 0.7099536366270646,\n",
            "                      'auc': 0.672450014488554},\n",
            "          'model': SVC(degree=2, gamma='auto', kernel='poly')},\n",
            " 'gradientboosting': {'params': {'n_estimators': 50},\n",
            "                      'type': 4,\n",
            "                      'metrics': {'accuracy': 0.7443434744905333,\n",
            "                                  'precision': 0.7741266648321561,\n",
            "                                  'recal': 0.6908891142663962,\n",
            "                                  'specificity': 0.7978363759296823,\n",
            "                                  'auc': 0.7443627450980392},\n",
            "                      'model': GradientBoostingClassifier(n_estimators=50)},\n",
            " 'xgboost': {'params': {},\n",
            "             'type': 5,\n",
            "             'metrics': {'accuracy': 0.7220359396829985,\n",
            "                         'precision': 0.7359382956169391,\n",
            "                         'recal': 0.6957910750507099,\n",
            "                         'specificity': 0.7482782768279728,\n",
            "                         'auc': 0.7220346759393412},\n",
            "             'model': XGBClassifier(base_score=None, booster=None, callbacks=None,\n",
            "              colsample_bylevel=None, colsample_bynode=None,\n",
            "              colsample_bytree=None, device=None, early_stopping_rounds=None,\n",
            "              enable_categorical=False, eval_metric=None, feature_types=None,\n",
            "              gamma=None, grow_policy=None, importance_type=None,\n",
            "              interaction_constraints=None, learning_rate=None, max_bin=None,\n",
            "              max_cat_threshold=None, max_cat_to_onehot=None,\n",
            "              max_delta_step=None, max_depth=None, max_leaves=None,\n",
            "              min_child_weight=None, missing=nan, monotone_constraints=None,\n",
            "              multi_strategy=None, n_estimators=None, n_jobs=None,\n",
            "              num_parallel_tree=None, random_state=None, ...)},\n",
            " 'lightgbm': {'params': {},\n",
            "              'type': 6,\n",
            "              'metrics': {'accuracy': 0.7365075637134462,\n",
            "                          'precision': 0.7584220926604784,\n",
            "                          'recal': 0.694805853375833,\n",
            "                          'specificity': 0.7782237032744133,\n",
            "                          'auc': 0.7365147783251231},\n",
            "              'model': LGBMClassifier()}}\n"
          ]
        }
      ]
    },
    {
      "cell_type": "markdown",
      "source": [
        "##RandomForest e Bagging"
      ],
      "metadata": {
        "id": "-6P1l4a04rBQ"
      }
    },
    {
      "cell_type": "code",
      "source": [
        "forest_names = [\"randomforest\", \"knorae\", \"knorau\", \"ola\", \"lca\", \"mcb\"]\n",
        "\n",
        "models_forest = {}\n",
        "for model in forest_names:\n",
        "  models_forest[model] = {}\n",
        "\n",
        "models_forest[\"randomforest\"][\"params\"] = {\"n_estimators\" : 50, \"criterion\" : \"log_loss\", \"max_depth\" : 8, \"max_features\" : \"sqrt\"}\n",
        "models_forest[\"randomforest\"][\"type\"] = 7\n",
        "\n",
        "for model in forest_names:\n",
        "  models_forest[model][\"metrics\"] = results.copy()\n",
        "  if ( model != \"randomforest\"):\n",
        "    models_forest[model][\"params\"] = {}\n",
        "\n",
        "\n",
        "#pprint.pp(models_forest)"
      ],
      "metadata": {
        "collapsed": true,
        "id": "TliQj2CdtF4I"
      },
      "execution_count": null,
      "outputs": []
    },
    {
      "cell_type": "code",
      "source": [
        "models_forest = super_function(models_forest, forest_names, True, X_train, y_train, X_test, y_test)"
      ],
      "metadata": {
        "id": "hYpod8tRtvrY"
      },
      "execution_count": null,
      "outputs": []
    },
    {
      "cell_type": "code",
      "source": [
        "pprint.pp(models_forest)"
      ],
      "metadata": {
        "colab": {
          "base_uri": "https://localhost:8080/"
        },
        "id": "4v7VZ2z3ueab",
        "outputId": "08260d42-5b61-45fe-c5e5-9ad0f22d5206"
      },
      "execution_count": null,
      "outputs": [
        {
          "output_type": "stream",
          "name": "stdout",
          "text": [
            "{'randomforest': {'params': {'n_estimators': 50,\n",
            "                             'criterion': 'log_loss',\n",
            "                             'max_depth': 8,\n",
            "                             'max_features': 'sqrt'},\n",
            "                  'type': 7,\n",
            "                  'metrics': {'accuracy': 0.7470479838126896,\n",
            "                              'precision': 0.7861899585723959,\n",
            "                              'recal': 0.6791244083840433,\n",
            "                              'specificity': 0.8150053124698153,\n",
            "                              'auc': 0.7470648604269294},\n",
            "                  'model': RandomForestClassifier(criterion='log_loss', max_depth=8, n_estimators=50)},\n",
            " 'knorae': {'metrics': {'accuracy': 0.6896619212795684,\n",
            "                        'precision': 0.7196041232370413,\n",
            "                        'recal': 0.631048971312663,\n",
            "                        'specificity': 0.7483241572491065,\n",
            "                        'auc': 0.6896865642808847},\n",
            "            'params': {},\n",
            "            'model': KNORAE(k=5,\n",
            "       pool_classifiers=RandomForestClassifier(criterion='log_loss',\n",
            "                                               max_depth=8, n_estimators=50))},\n",
            " 'knorau': {'metrics': {'accuracy': 0.7441122272004624,\n",
            "                        'precision': 0.8038869060221361,\n",
            "                        'recal': 0.6462522940210567,\n",
            "                        'specificity': 0.8420071476866611,\n",
            "                        'auc': 0.7441297208538589},\n",
            "            'params': {},\n",
            "            'model': KNORAU(k=5,\n",
            "       pool_classifiers=RandomForestClassifier(criterion='log_loss',\n",
            "                                               max_depth=8, n_estimators=50))},\n",
            " 'ola': {'metrics': {'accuracy': 0.6818043310690369,\n",
            "                     'precision': 0.7044573883208429,\n",
            "                     'recal': 0.6325050709939147,\n",
            "                     'specificity': 0.7311334878779097,\n",
            "                     'auc': 0.6818192794359123},\n",
            "         'params': {},\n",
            "         'model': OLA(k=5,\n",
            "    pool_classifiers=RandomForestClassifier(criterion='log_loss', max_depth=8,\n",
            "                                            n_estimators=50))},\n",
            " 'lca': {'metrics': {'accuracy': 0.6670683383918677,\n",
            "                     'precision': 0.7392318989807358,\n",
            "                     'recal': 0.5195933545832127,\n",
            "                     'specificity': 0.8145175311503913,\n",
            "                     'auc': 0.6670554428668019},\n",
            "         'params': {},\n",
            "         'model': LCA(k=5,\n",
            "    pool_classifiers=RandomForestClassifier(criterion='log_loss', max_depth=8,\n",
            "                                            n_estimators=50))},\n",
            " 'mcb': {'metrics': {'accuracy': 0.6817965023847377,\n",
            "                     'precision': 0.7034419513362644,\n",
            "                     'recal': 0.6334758041147494,\n",
            "                     'specificity': 0.7301386071670046,\n",
            "                     'auc': 0.681807205640877},\n",
            "         'params': {},\n",
            "         'model': MCB(k=5,\n",
            "    pool_classifiers=RandomForestClassifier(criterion='log_loss', max_depth=8,\n",
            "                                            n_estimators=50))}}\n"
          ]
        }
      ]
    },
    {
      "cell_type": "code",
      "source": [
        "bagging_names = [\"bagging\", \"knorae\", \"knorau\", \"ola\", \"lca\", \"mcb\"]\n",
        "\n",
        "models_bagging = {}\n",
        "for model in bagging_names:\n",
        "  models_bagging[model] = {}\n",
        "\n",
        "models_bagging[\"bagging\"][\"params\"] = {\"n_estimators\" : 50}\n",
        "models_bagging[\"bagging\"][\"type\"] = 8\n",
        "\n",
        "for model in bagging_names:\n",
        "  models_bagging[model][\"metrics\"] = results.copy()\n",
        "  if (model != \"bagging\"):\n",
        "    models_bagging[model][\"params\"] = {}\n",
        "\n",
        "#pprint.pp(models_bagging)"
      ],
      "metadata": {
        "id": "NUsiSFgawEdP"
      },
      "execution_count": null,
      "outputs": []
    },
    {
      "cell_type": "code",
      "source": [
        "models_bagging = super_function(models_bagging, bagging_names, True, X_train, y_train, X_test, y_test)\n",
        "\n",
        "pprint.pp(models_bagging)"
      ],
      "metadata": {
        "colab": {
          "base_uri": "https://localhost:8080/"
        },
        "id": "HSSNpK5twysK",
        "outputId": "4dd7ec07-70c7-4e2e-a083-93dfc1a1df01"
      },
      "execution_count": null,
      "outputs": [
        {
          "output_type": "stream",
          "name": "stdout",
          "text": [
            "{'bagging': {'params': {'n_estimators': 50},\n",
            "             'type': 8,\n",
            "             'metrics': {'accuracy': 0.719339861251626,\n",
            "                         'precision': 0.7375714627758914,\n",
            "                         'recal': 0.6830508065295083,\n",
            "                         'specificity': 0.7556674393895488,\n",
            "                         'auc': 0.7193591229595288},\n",
            "             'model': BaggingClassifier(n_estimators=50)},\n",
            " 'knorae': {'metrics': {'accuracy': 0.7078088114852821,\n",
            "                        'precision': 0.7247441627117543,\n",
            "                        'recal': 0.6727470298464213,\n",
            "                        'specificity': 0.7429006085192696,\n",
            "                        'auc': 0.7078238191828455},\n",
            "            'params': {},\n",
            "            'model': KNORAE(k=5, pool_classifiers=BaggingClassifier(n_estimators=50))},\n",
            " 'knorau': {'metrics': {'accuracy': 0.7198276485041192,\n",
            "                        'precision': 0.7346522228627387,\n",
            "                        'recal': 0.690406162464986,\n",
            "                        'specificity': 0.7492876460929199,\n",
            "                        'auc': 0.719846904278953},\n",
            "            'params': {},\n",
            "            'model': KNORAU(k=5, pool_classifiers=BaggingClassifier(n_estimators=50))},\n",
            " 'ola': {'metrics': {'accuracy': 0.6474623018740665,\n",
            "                     'precision': 0.6492010685934422,\n",
            "                     'recal': 0.6423258958755915,\n",
            "                     'specificity': 0.6526031102096009,\n",
            "                     'auc': 0.6474645030425964},\n",
            "         'params': {},\n",
            "         'model': OLA(k=5, pool_classifiers=BaggingClassifier(n_estimators=50))},\n",
            " 'lca': {'metrics': {'accuracy': 0.655058534470299,\n",
            "                     'precision': 0.6662213667696275,\n",
            "                     'recal': 0.623155124118613,\n",
            "                     'specificity': 0.6869578866029171,\n",
            "                     'auc': 0.655056505360765},\n",
            "         'params': {},\n",
            "         'model': LCA(k=5, pool_classifiers=BaggingClassifier(n_estimators=50))},\n",
            " 'mcb': {'metrics': {'accuracy': 0.6550543190249074,\n",
            "                     'precision': 0.6565553887002475,\n",
            "                     'recal': 0.6540930165169516,\n",
            "                     'specificity': 0.6560417270356418,\n",
            "                     'auc': 0.6550673717762968},\n",
            "         'params': {},\n",
            "         'model': MCB(k=5, pool_classifiers=BaggingClassifier(n_estimators=50))}}\n"
          ]
        }
      ]
    },
    {
      "cell_type": "markdown",
      "source": [
        "#Seleção de Features"
      ],
      "metadata": {
        "id": "6wbT7INobjZa"
      }
    },
    {
      "cell_type": "code",
      "source": [
        "correlation = dataset.corr()\n",
        "\n",
        "plot = sns.heatmap(correlation, annot = True, fmt=\".1f\", linewidths=.6)\n",
        "plot"
      ],
      "metadata": {
        "colab": {
          "base_uri": "https://localhost:8080/"
        },
        "id": "w3TXi9jm2DdT",
        "outputId": "8b77770f-510c-4bad-9ca3-a440e409f46c",
        "collapsed": true
      },
      "execution_count": null,
      "outputs": [
        {
          "output_type": "execute_result",
          "data": {
            "text/plain": [
              "<Axes: >"
            ]
          },
          "metadata": {},
          "execution_count": 18
        },
        {
          "output_type": "display_data",
          "data": {
            "text/plain": [
              "<Figure size 640x480 with 2 Axes>"
            ],
            "image/png": "[encoded data removed]"
          },
          "metadata": {}
        }
      ]
    },
    {
      "cell_type": "code",
      "source": [
        "from sklearn.feature_selection import SelectKBest\n",
        "from sklearn.feature_selection import f_classif\n",
        "\n",
        "f_classiftest = SelectKBest(score_func=f_classif, k = 7)\n",
        "modelofeat = f_classiftest.fit(X,y)\n",
        "\n",
        "modelofeat.get_feature_names_out()"
      ],
      "metadata": {
        "colab": {
          "base_uri": "https://localhost:8080/"
        },
        "id": "xVp63Vc_AHNI",
        "outputId": "f1a0daa1-d5b8-413b-86e1-2f428c602eb5"
      },
      "execution_count": null,
      "outputs": [
        {
          "output_type": "execute_result",
          "data": {
            "text/plain": [
              "array(['onehotencoder__Geography_France',\n",
              "       'onehotencoder__Geography_Spain', 'onehotencoder__Gender_Female',\n",
              "       'onehotencoder__Gender_Male', 'remainder__Age',\n",
              "       'remainder__NumOfProducts', 'remainder__HasCrCard'], dtype=object)"
            ]
          },
          "metadata": {},
          "execution_count": 19
        }
      ]
    },
    {
      "cell_type": "code",
      "source": [
        "#modelofeat.scores_\n",
        "\n",
        "cols = modelofeat.get_support(indices=True)\n",
        "x = X.iloc[:,cols]\n",
        "\n",
        "train_X, train_y, test_X, test_y = generate_folds_lists(x,y)"
      ],
      "metadata": {
        "id": "cJ9cSX3IEJPM"
      },
      "execution_count": null,
      "outputs": []
    },
    {
      "cell_type": "code",
      "source": [
        "models_names_new = [models_names[i] + \"_fselection\" for i in range(len(models_names)) ]\n",
        "\n",
        "models_new = {}\n",
        "for model in models_names_new:\n",
        "  models_new[model] = {}\n",
        "\n",
        "#Arvores de Decisão\n",
        "models_new[\"tree1_fselection\"][\"params\"] = {\"max_depth\" : 30}\n",
        "models_new[\"tree1_fselection\"][\"type\"] = 1\n",
        "models_new[\"tree2_fselection\"][\"params\"] = {\"criterion\" : \"entropy\", \"max_depth\" : 12}\n",
        "models_new[\"tree2_fselection\"][\"type\"] = 1\n",
        "models_new[\"tree3_fselection\"][\"params\"] = {\"criterion\" : 'log_loss', \"max_depth\" : 8, \"max_features\" : \"sqrt\"}\n",
        "models_new[\"tree3_fselection\"][\"type\"] = 1\n",
        "\n",
        "#KNNs\n",
        "models_new[\"knn1_fselection\"][\"params\"] = {\"n_neighbors\" : 20, \"metric\" : 'euclidean'}\n",
        "models_new[\"knn1_fselection\"][\"type\"] = 2\n",
        "models_new[\"knn2_fselection\"][\"params\"] = {\"weights\" : 'distance', \"algorithm\" : 'brute'}\n",
        "models_new[\"knn2_fselection\"][\"type\"] = 2\n",
        "models_new[\"knn3_fselection\"][\"params\"] = {\"n_neighbors\" : 12, \"weights\" : 'distance'}\n",
        "models_new[\"knn3_fselection\"][\"type\"] = 2\n",
        "\n",
        "#SVMs\n",
        "models_new[\"svm1_fselection\"][\"params\"] = {\"kernel\" : 'linear', \"C\" : 1.0}\n",
        "models_new[\"svm1_fselection\"][\"type\"] = 3\n",
        "models_new[\"svm2_fselection\"][\"params\"] = {\"kernel\" : \"rbf\", \"gamma\" : 0.7, \"C\" : 1.0}\n",
        "models_new[\"svm2_fselection\"][\"type\"] = 3\n",
        "models_new[\"svm3_fselection\"][\"params\"] = {\"kernel\" : \"poly\", \"degree\" : 2, \"gamma\" : \"auto\", \"C\" : 1.0}\n",
        "models_new[\"svm3_fselection\"][\"type\"] = 3\n",
        "\n",
        "#Acrecimo dos modelos GradientBooting, XGBoost e LightGBM\n",
        "models_new[\"gradientboosting_fselection\"][\"params\"] = {\"n_estimators\" : 50}\n",
        "models_new[\"gradientboosting_fselection\"][\"type\"] = 4\n",
        "\n",
        "models_new[\"xgboost_fselection\"][\"params\"] = {}\n",
        "models_new[\"xgboost_fselection\"][\"type\"] = 5\n",
        "\n",
        "models_new[\"lightgbm_fselection\"][\"params\"] = {}\n",
        "models_new[\"lightgbm_fselection\"][\"type\"] = 6\n",
        "\n",
        "for model in models_names_new:\n",
        "  models_new[model][\"metrics\"] = results.copy()\n",
        "\n",
        "#pprint.pp(models_new)"
      ],
      "metadata": {
        "collapsed": true,
        "id": "_ZBTojT7KWrG"
      },
      "execution_count": null,
      "outputs": []
    },
    {
      "cell_type": "code",
      "source": [
        "models_new = super_function(models_new, models_names_new, False, train_X, train_y, test_X, test_y)"
      ],
      "metadata": {
        "colab": {
          "base_uri": "https://localhost:8080/"
        },
        "id": "1_j32TMtYz9T",
        "outputId": "eb8324f1-eead-48e3-a567-58bf91704457",
        "collapsed": true
      },
      "execution_count": null,
      "outputs": [
        {
          "output_type": "stream",
          "name": "stdout",
          "text": [
            "[LightGBM] [Info] Number of positive: 1834, number of negative: 1834\n",
            "[LightGBM] [Info] Auto-choosing row-wise multi-threading, the overhead of testing was 0.000280 seconds.\n",
            "You can set `force_row_wise=true` to remove the overhead.\n",
            "And if memory is not enough, you can set `force_col_wise=true`.\n",
            "[LightGBM] [Info] Total Bins 69\n",
            "[LightGBM] [Info] Number of data points in the train set: 3668, number of used features: 7\n",
            "[LightGBM] [Info] [binary:BoostFromScore]: pavg=0.500000 -> initscore=0.000000\n",
            "[LightGBM] [Info] Number of positive: 1834, number of negative: 1834\n",
            "[LightGBM] [Info] Auto-choosing row-wise multi-threading, the overhead of testing was 0.000271 seconds.\n",
            "You can set `force_row_wise=true` to remove the overhead.\n",
            "And if memory is not enough, you can set `force_col_wise=true`.\n",
            "[LightGBM] [Info] Total Bins 68\n",
            "[LightGBM] [Info] Number of data points in the train set: 3668, number of used features: 7\n",
            "[LightGBM] [Info] [binary:BoostFromScore]: pavg=0.500000 -> initscore=0.000000\n",
            "[LightGBM] [Info] Number of positive: 1834, number of negative: 1834\n",
            "[LightGBM] [Info] Auto-choosing row-wise multi-threading, the overhead of testing was 0.000328 seconds.\n",
            "You can set `force_row_wise=true` to remove the overhead.\n",
            "And if memory is not enough, you can set `force_col_wise=true`.\n",
            "[LightGBM] [Info] Total Bins 69\n",
            "[LightGBM] [Info] Number of data points in the train set: 3668, number of used features: 7\n",
            "[LightGBM] [Info] [binary:BoostFromScore]: pavg=0.500000 -> initscore=0.000000\n",
            "[LightGBM] [Info] Number of positive: 1834, number of negative: 1834\n",
            "[LightGBM] [Info] Auto-choosing row-wise multi-threading, the overhead of testing was 0.000328 seconds.\n",
            "You can set `force_row_wise=true` to remove the overhead.\n",
            "And if memory is not enough, you can set `force_col_wise=true`.\n",
            "[LightGBM] [Info] Total Bins 67\n",
            "[LightGBM] [Info] Number of data points in the train set: 3668, number of used features: 7\n",
            "[LightGBM] [Info] [binary:BoostFromScore]: pavg=0.500000 -> initscore=0.000000\n",
            "[LightGBM] [Info] Number of positive: 1834, number of negative: 1834\n",
            "[LightGBM] [Info] Auto-choosing row-wise multi-threading, the overhead of testing was 0.000291 seconds.\n",
            "You can set `force_row_wise=true` to remove the overhead.\n",
            "And if memory is not enough, you can set `force_col_wise=true`.\n",
            "[LightGBM] [Info] Total Bins 69\n",
            "[LightGBM] [Info] Number of data points in the train set: 3668, number of used features: 7\n",
            "[LightGBM] [Info] [binary:BoostFromScore]: pavg=0.500000 -> initscore=0.000000\n",
            "[LightGBM] [Info] Number of positive: 1834, number of negative: 1834\n",
            "[LightGBM] [Info] Auto-choosing row-wise multi-threading, the overhead of testing was 0.000266 seconds.\n",
            "You can set `force_row_wise=true` to remove the overhead.\n",
            "And if memory is not enough, you can set `force_col_wise=true`.\n",
            "[LightGBM] [Info] Total Bins 69\n",
            "[LightGBM] [Info] Number of data points in the train set: 3668, number of used features: 7\n",
            "[LightGBM] [Info] [binary:BoostFromScore]: pavg=0.500000 -> initscore=0.000000\n",
            "[LightGBM] [Info] Number of positive: 1835, number of negative: 1834\n",
            "[LightGBM] [Info] Auto-choosing col-wise multi-threading, the overhead of testing was 0.000533 seconds.\n",
            "You can set `force_col_wise=true` to remove the overhead.\n",
            "[LightGBM] [Info] Total Bins 69\n",
            "[LightGBM] [Info] Number of data points in the train set: 3669, number of used features: 7\n",
            "[LightGBM] [Info] [binary:BoostFromScore]: pavg=0.500136 -> initscore=0.000545\n",
            "[LightGBM] [Info] Start training from score 0.000545\n",
            "[LightGBM] [Info] Number of positive: 1835, number of negative: 1834\n",
            "[LightGBM] [Info] Auto-choosing row-wise multi-threading, the overhead of testing was 0.000316 seconds.\n",
            "You can set `force_row_wise=true` to remove the overhead.\n",
            "And if memory is not enough, you can set `force_col_wise=true`.\n",
            "[LightGBM] [Info] Total Bins 68\n",
            "[LightGBM] [Info] Number of data points in the train set: 3669, number of used features: 7\n",
            "[LightGBM] [Info] [binary:BoostFromScore]: pavg=0.500136 -> initscore=0.000545\n",
            "[LightGBM] [Info] Start training from score 0.000545\n",
            "[LightGBM] [Info] Number of positive: 1834, number of negative: 1835\n",
            "[LightGBM] [Info] Auto-choosing row-wise multi-threading, the overhead of testing was 0.000279 seconds.\n",
            "You can set `force_row_wise=true` to remove the overhead.\n",
            "And if memory is not enough, you can set `force_col_wise=true`.\n",
            "[LightGBM] [Info] Total Bins 69\n",
            "[LightGBM] [Info] Number of data points in the train set: 3669, number of used features: 7\n",
            "[LightGBM] [Info] [binary:BoostFromScore]: pavg=0.499864 -> initscore=-0.000545\n",
            "[LightGBM] [Info] Start training from score -0.000545\n",
            "[LightGBM] [Info] Number of positive: 1834, number of negative: 1835\n",
            "[LightGBM] [Info] Auto-choosing row-wise multi-threading, the overhead of testing was 0.000325 seconds.\n",
            "You can set `force_row_wise=true` to remove the overhead.\n",
            "And if memory is not enough, you can set `force_col_wise=true`.\n",
            "[LightGBM] [Info] Total Bins 69\n",
            "[LightGBM] [Info] Number of data points in the train set: 3669, number of used features: 7\n",
            "[LightGBM] [Info] [binary:BoostFromScore]: pavg=0.499864 -> initscore=-0.000545\n",
            "[LightGBM] [Info] Start training from score -0.000545\n"
          ]
        }
      ]
    },
    {
      "cell_type": "code",
      "source": [
        "pprint.pp(models_new)"
      ],
      "metadata": {
        "id": "o8Euxpdta5gx",
        "outputId": "a7f4df47-a37b-4154-9794-70efa0e3f373",
        "colab": {
          "base_uri": "https://localhost:8080/"
        }
      },
      "execution_count": null,
      "outputs": [
        {
          "output_type": "stream",
          "name": "stdout",
          "text": [
            "{'tree1_fselection': {'params': {'max_depth': 30},\n",
            "                      'type': 1,\n",
            "                      'metrics': {'accuracy': 0.7021498771498771,\n",
            "                                  'precision': 0.7554527675893218,\n",
            "                                  'recal': 0.5996112237998649,\n",
            "                                  'specificity': 0.8047160243407707,\n",
            "                                  'auc': 0.7021636240703176},\n",
            "                      'model': DecisionTreeClassifier(max_depth=30)},\n",
            " 'tree2_fselection': {'params': {'criterion': 'entropy', 'max_depth': 12},\n",
            "                      'type': 1,\n",
            "                      'metrics': {'accuracy': 0.7129516548634196,\n",
            "                                  'precision': 0.7670997023661112,\n",
            "                                  'recal': 0.6138438133874239,\n",
            "                                  'specificity': 0.8120906983483049,\n",
            "                                  'auc': 0.7129672558678644},\n",
            "                      'model': DecisionTreeClassifier(criterion='entropy', max_depth=12)},\n",
            " 'tree3_fselection': {'params': {'criterion': 'log_loss',\n",
            "                                 'max_depth': 8,\n",
            "                                 'max_features': 'sqrt'},\n",
            "                      'type': 1,\n",
            "                      'metrics': {'accuracy': 0.7207984053572289,\n",
            "                                  'precision': 0.7817133292474221,\n",
            "                                  'recal': 0.6138486429054381,\n",
            "                                  'specificity': 0.8277793876171159,\n",
            "                                  'auc': 0.720814015261277},\n",
            "                      'model': DecisionTreeClassifier(criterion='log_loss', max_depth=8, max_features='sqrt')},\n",
            " 'knn1_fselection': {'params': {'n_neighbors': 20, 'metric': 'euclidean'},\n",
            "                     'type': 2,\n",
            "                     'metrics': {'accuracy': 0.7230006744712627,\n",
            "                                 'precision': 0.7863274411521071,\n",
            "                                 'recal': 0.6123732251521298,\n",
            "                                 'specificity': 0.8336448372452431,\n",
            "                                 'auc': 0.7230090311986863},\n",
            "                     'model': KNeighborsClassifier(metric='euclidean', n_neighbors=20)},\n",
            " 'knn2_fselection': {'params': {'weights': 'distance', 'algorithm': 'brute'},\n",
            "                     'type': 2,\n",
            "                     'metrics': {'accuracy': 0.6942922869393459,\n",
            "                                 'precision': 0.7906230084477952,\n",
            "                                 'recal': 0.5299502559644548,\n",
            "                                 'specificity': 0.8586520815222641,\n",
            "                                 'auc': 0.6943011687433595},\n",
            "                     'model': KNeighborsClassifier(algorithm='brute', weights='distance')},\n",
            " 'knn3_fselection': {'params': {'n_neighbors': 12, 'weights': 'distance'},\n",
            "                     'type': 2,\n",
            "                     'metrics': {'accuracy': 0.7058239389121742,\n",
            "                                 'precision': 0.7666727244861502,\n",
            "                                 'recal': 0.5922558678643872,\n",
            "                                 'specificity': 0.8194146624166909,\n",
            "                                 'auc': 0.705835265140539},\n",
            "                     'model': KNeighborsClassifier(n_neighbors=12, weights='distance')},\n",
            " 'svm1_fselection': {'params': {'kernel': 'linear', 'C': 1.0},\n",
            "                     'type': 3,\n",
            "                     'metrics': {'accuracy': 0.7119477766536589,\n",
            "                                 'precision': 0.7376946810424984,\n",
            "                                 'recal': 0.657988022795325,\n",
            "                                 'specificity': 0.7659132618564667,\n",
            "                                 'auc': 0.7119506423258959},\n",
            "                     'model': SVC(kernel='linear')},\n",
            " 'svm2_fselection': {'params': {'kernel': 'rbf', 'gamma': 0.7, 'C': 1.0},\n",
            "                     'type': 3,\n",
            "                     'metrics': {'accuracy': 0.7173646239822711,\n",
            "                                 'precision': 0.7384736285916211,\n",
            "                                 'recal': 0.674671592775041,\n",
            "                                 'specificity': 0.7600478122283397,\n",
            "                                 'auc': 0.7173597025016902},\n",
            "                     'model': SVC(gamma=0.7)},\n",
            " 'svm3_fselection': {'params': {'kernel': 'poly',\n",
            "                                'degree': 2,\n",
            "                                'gamma': 'auto',\n",
            "                                'C': 1.0},\n",
            "                     'type': 3,\n",
            "                     'metrics': {'accuracy': 0.6879131136484077,\n",
            "                                 'precision': 0.7010680084801062,\n",
            "                                 'recal': 0.6565343378730801,\n",
            "                                 'specificity': 0.7192794359122958,\n",
            "                                 'auc': 0.6879068868926881},\n",
            "                     'model': SVC(degree=2, gamma='auto', kernel='poly')},\n",
            " 'gradientboosting_fselection': {'params': {'n_estimators': 50},\n",
            "                                 'type': 4,\n",
            "                                 'metrics': {'accuracy': 0.7369863178686709,\n",
            "                                             'precision': 0.774225412006434,\n",
            "                                             'recal': 0.6697913648217908,\n",
            "                                             'specificity': 0.8042330725393605,\n",
            "                                             'auc': 0.7370122186805756},\n",
            "                                 'model': GradientBoostingClassifier(n_estimators=50)},\n",
            " 'xgboost_fselection': {'params': {},\n",
            "                        'type': 5,\n",
            "                        'metrics': {'accuracy': 0.7247127475068652,\n",
            "                                    'precision': 0.7575790528906038,\n",
            "                                    'recal': 0.662906886892688,\n",
            "                                    'specificity': 0.7865401332946972,\n",
            "                                    'auc': 0.7247235100936927},\n",
            "                        'model': XGBClassifier(base_score=None, booster=None, callbacks=None,\n",
            "              colsample_bylevel=None, colsample_bynode=None,\n",
            "              colsample_bytree=None, device=None, early_stopping_rounds=None,\n",
            "              enable_categorical=False, eval_metric=None, feature_types=None,\n",
            "              gamma=None, grow_policy=None, importance_type=None,\n",
            "              interaction_constraints=None, learning_rate=None, max_bin=None,\n",
            "              max_cat_threshold=None, max_cat_to_onehot=None,\n",
            "              max_delta_step=None, max_depth=None, max_leaves=None,\n",
            "              min_child_weight=None, missing=nan, monotone_constraints=None,\n",
            "              multi_strategy=None, n_estimators=None, n_jobs=None,\n",
            "              num_parallel_tree=None, random_state=None, ...)},\n",
            " 'lightgbm_fselection': {'params': {},\n",
            "                         'type': 6,\n",
            "                         'metrics': {'accuracy': 0.7234926771691477,\n",
            "                                     'precision': 0.7575925411299166,\n",
            "                                     'recal': 0.6589949773012652,\n",
            "                                     'specificity': 0.7880155510480054,\n",
            "                                     'auc': 0.7235052641746355},\n",
            "                         'model': LGBMClassifier()}}\n"
          ]
        }
      ]
    },
    {
      "cell_type": "code",
      "source": [
        "forest_names_new = [forest_names[i]+\"_fselection\" for i in range(len(forest_names))]\n",
        "\n",
        "#forest_names = [\"randomforest\", \"knorae\", \"knorau\", \"ola\", \"lca\", \"mcb\"]\n",
        "\n",
        "models_forest_new = {}\n",
        "for model in forest_names_new:\n",
        "  models_forest_new[model] = {}\n",
        "\n",
        "models_forest_new[\"randomforest_fselection\"][\"params\"] = {\"n_estimators\" : 50, \"criterion\" : \"log_loss\", \"max_depth\" : 8, \"max_features\" : \"sqrt\"}\n",
        "models_forest_new[\"randomforest_fselection\"][\"type\"] = 7\n",
        "\n",
        "for model in forest_names_new:\n",
        "  models_forest_new[model][\"metrics\"] = results.copy()\n",
        "\n",
        "#pprint.pp(models_forest_new)"
      ],
      "metadata": {
        "id": "S2yCCwc3nYJP"
      },
      "execution_count": null,
      "outputs": []
    },
    {
      "cell_type": "code",
      "source": [
        "models_forest_new = super_function(models_forest_new, forest_names_new, True, train_X, train_y, test_X, test_y)"
      ],
      "metadata": {
        "id": "benEj8mkrR69"
      },
      "execution_count": null,
      "outputs": []
    },
    {
      "cell_type": "code",
      "source": [
        "pprint.pp(models_forest_new)"
      ],
      "metadata": {
        "colab": {
          "base_uri": "https://localhost:8080/"
        },
        "id": "T9EHNN_1rx3O",
        "outputId": "996b4ebd-1f45-413f-cae0-e63089e8d7c0"
      },
      "execution_count": null,
      "outputs": [
        {
          "output_type": "stream",
          "name": "stdout",
          "text": [
            "{'randomforest_fselection': {'params': {'n_estimators': 50,\n",
            "                                        'criterion': 'log_loss',\n",
            "                                        'max_depth': 8,\n",
            "                                        'max_features': 'sqrt'},\n",
            "                             'type': 7,\n",
            "                             'metrics': {'accuracy': 0.7347768222768222,\n",
            "                                         'precision': 0.777551633519538,\n",
            "                                         'recal': 0.6585120254998551,\n",
            "                                         'specificity': 0.8110885733603785,\n",
            "                                         'auc': 0.7348002994301168},\n",
            "                             'model': RandomForestClassifier(criterion='log_loss', max_depth=8, n_estimators=50)},\n",
            " 'knorae_fselection': {'metrics': {'accuracy': 0.6896312087488558,\n",
            "                                   'precision': 0.7057906757376505,\n",
            "                                   'recal': 0.65406162464986,\n",
            "                                   'specificity': 0.725193180720564,\n",
            "                                   'auc': 0.689627402685212},\n",
            "                       'model': KNORAE(k=5,\n",
            "       pool_classifiers=RandomForestClassifier(criterion='log_loss',\n",
            "                                               max_depth=8, n_estimators=50))},\n",
            " 'knorau_fselection': {'metrics': {'accuracy': 0.7313448475213181,\n",
            "                                   'precision': 0.7839518334105611,\n",
            "                                   'recal': 0.6408504781222834,\n",
            "                                   'specificity': 0.821889790398918,\n",
            "                                   'auc': 0.7313701342606007},\n",
            "                       'model': KNORAU(k=5,\n",
            "       pool_classifiers=RandomForestClassifier(criterion='log_loss',\n",
            "                                               max_depth=8, n_estimators=50))},\n",
            " 'ola_fselection': {'metrics': {'accuracy': 0.7019035746976923,\n",
            "                                'precision': 0.7235853369095073,\n",
            "                                'recal': 0.6560441417946489,\n",
            "                                'specificity': 0.7477832512315271,\n",
            "                                'auc': 0.7019136965130879},\n",
            "                    'model': OLA(k=5,\n",
            "    pool_classifiers=RandomForestClassifier(criterion='log_loss', max_depth=8,\n",
            "                                            n_estimators=50))},\n",
            " 'lca_fselection': {'metrics': {'accuracy': 0.7163872428578311,\n",
            "                                'precision': 0.7603524384327518,\n",
            "                                'recal': 0.6339708297111948,\n",
            "                                'specificity': 0.7988457451946296,\n",
            "                                'auc': 0.7164082874529122},\n",
            "                    'model': LCA(k=5,\n",
            "    pool_classifiers=RandomForestClassifier(criterion='log_loss', max_depth=8,\n",
            "                                            n_estimators=50))},\n",
            " 'mcb_fselection': {'metrics': {'accuracy': 0.6987185046008575,\n",
            "                                'precision': 0.7196777077515829,\n",
            "                                'recal': 0.6531053800830677,\n",
            "                                'specificity': 0.7443518786825075,\n",
            "                                'auc': 0.6987286293827876},\n",
            "                    'model': MCB(k=5,\n",
            "    pool_classifiers=RandomForestClassifier(criterion='log_loss', max_depth=8,\n",
            "                                            n_estimators=50))}}\n"
          ]
        }
      ]
    },
    {
      "cell_type": "code",
      "source": [
        "bagging_names_new = [model+\"_fselection\" for model in bagging_names]\n",
        "\n",
        "models_bagging_new = {}\n",
        "for model in bagging_names_new:\n",
        "  models_bagging_new[model] = {}\n",
        "\n",
        "models_bagging_new[\"bagging_fselection\"][\"params\"] = {\"n_estimators\" : 50}\n",
        "models_bagging_new[\"bagging_fselection\"][\"type\"] = 8\n",
        "\n",
        "for model in bagging_names_new:\n",
        "  models_bagging_new[model][\"metrics\"] = results.copy()\n",
        "\n",
        "#pprint.pp(models_bagging)"
      ],
      "metadata": {
        "id": "q0MDg_9SuX8T"
      },
      "execution_count": null,
      "outputs": []
    },
    {
      "cell_type": "code",
      "source": [
        "models_bagging_new = super_function(models_bagging_new, bagging_names_new, True, train_X, train_y, test_X, test_y)"
      ],
      "metadata": {
        "id": "ebrCevGgwt2e"
      },
      "execution_count": null,
      "outputs": []
    },
    {
      "cell_type": "code",
      "source": [
        "pprint.pp(models_bagging_new)"
      ],
      "metadata": {
        "colab": {
          "base_uri": "https://localhost:8080/"
        },
        "id": "nyc_18j0xMuh",
        "outputId": "88b549aa-d49f-4ec4-dd44-d03d5c3e7703"
      },
      "execution_count": null,
      "outputs": [
        {
          "output_type": "stream",
          "name": "stdout",
          "text": [
            "{'bagging_fselection': {'params': {'n_estimators': 50},\n",
            "                        'type': 8,\n",
            "                        'metrics': {'accuracy': 0.7063201570554513,\n",
            "                                    'precision': 0.7347395585298933,\n",
            "                                    'recal': 0.6481841012266976,\n",
            "                                    'specificity': 0.764461991693229,\n",
            "                                    'auc': 0.7063230464599632},\n",
            "                        'model': BaggingClassifier(n_estimators=50)},\n",
            " 'knorae_fselection': {'metrics': {'accuracy': 0.6695259430553547,\n",
            "                                   'precision': 0.681492925355712,\n",
            "                                   'recal': 0.6413310151646866,\n",
            "                                   'specificity': 0.6977446150874144,\n",
            "                                   'auc': 0.6695378151260504},\n",
            "                       'model': KNORAE(k=5, pool_classifiers=BaggingClassifier(n_estimators=50))},\n",
            " 'knorau_fselection': {'metrics': {'accuracy': 0.7019035746976924,\n",
            "                                   'precision': 0.7460187159968157,\n",
            "                                   'recal': 0.6143340094658554,\n",
            "                                   'specificity': 0.7894982130783348,\n",
            "                                   'auc': 0.701916111272095},\n",
            "                       'model': KNORAU(k=5, pool_classifiers=BaggingClassifier(n_estimators=50))},\n",
            " 'ola_fselection': {'metrics': {'accuracy': 0.6761586452762923,\n",
            "                                'precision': 0.6994620370610065,\n",
            "                                'recal': 0.6217207572684247,\n",
            "                                'specificity': 0.7306312180044432,\n",
            "                                'auc': 0.6761759876364338},\n",
            "                    'model': OLA(k=5, pool_classifiers=BaggingClassifier(n_estimators=50))},\n",
            " 'lca_fselection': {'metrics': {'accuracy': 0.6982361372067254,\n",
            "                                'precision': 0.7369790304107132,\n",
            "                                'recal': 0.6212088283589298,\n",
            "                                'specificity': 0.775282526803825,\n",
            "                                'auc': 0.6982456775813773},\n",
            "                    'model': LCA(k=5, pool_classifiers=BaggingClassifier(n_estimators=50))},\n",
            " 'mcb_fselection': {'metrics': {'accuracy': 0.6727182396300042,\n",
            "                                'precision': 0.6945899772727424,\n",
            "                                'recal': 0.6187723365208152,\n",
            "                                'specificity': 0.726702405099971,\n",
            "                                'auc': 0.6727373708103931},\n",
            "                    'model': MCB(k=5, pool_classifiers=BaggingClassifier(n_estimators=50))}}\n"
          ]
        }
      ]
    },
    {
      "cell_type": "code",
      "source": [
        "#preencher os parametros como vazios para usar a função from_dict_to_mlflow()\n",
        "for i in range (1,len(forest_names_new)):\n",
        "  models_forest_new[forest_names_new[i]][\"params\"] = {}\n",
        "\n",
        "#from_dict_to_mlflow(models_forest_new, forest_names_new)\n",
        "\n",
        "#pprint.pp(models_forest_new)"
      ],
      "metadata": {
        "id": "GCS8BtbJ2hip"
      },
      "execution_count": null,
      "outputs": []
    },
    {
      "cell_type": "code",
      "source": [
        "#preencher os parametros como vazios para usar a função from_dict_to_mlflow()\n",
        "for i in range (1,len(bagging_names_new)):\n",
        "  models_bagging_new[bagging_names_new[i]][\"params\"] = {}\n",
        "\n",
        "#from_dict_to_mlflow(models_bagging_new, bagging_names_new)\n",
        "\n",
        "#pprint.pp(models_forest_new)"
      ],
      "metadata": {
        "id": "n-cPVAI_ubx6"
      },
      "execution_count": null,
      "outputs": []
    },
    {
      "cell_type": "markdown",
      "source": [
        "#Parte do MLFlow"
      ],
      "metadata": {
        "id": "E8HVReT4j3bt"
      }
    },
    {
      "cell_type": "markdown",
      "source": [
        "##Uso do NGROK e Criação do Cliente"
      ],
      "metadata": {
        "id": "H0TowVKq90jG"
      }
    },
    {
      "cell_type": "code",
      "source": [
        "# 13) Rodar o NGROK e verificar os experimentos no tracking\n",
        "\n",
        "get_ipython().system_raw(\"mlflow ui --port 5000 &\")\n",
        "\n",
        "ngrok.kill()\n",
        "\n",
        "#Do meu ngrok\n",
        "NGROK_AUTO_TOKEN = \"2g9WABD6DYfhunX8dIZiwPDY7sd_22iCmbQAtyBfuMSu3jG7c\"\n",
        "ngrok.set_auth_token(NGROK_AUTO_TOKEN)\n",
        "\n",
        "ngrok_tunel = ngrok.connect(addr = 5000, proto = 'http', bind_tls = True)\n",
        "print(\"Endereço do MLflow: \", ngrok_tunel.public_url)"
      ],
      "metadata": {
        "colab": {
          "base_uri": "https://localhost:8080/"
        },
        "id": "IrzkiOpfoCHj",
        "outputId": "3f211371-c857-4492-ddad-8f810a8cc5fd"
      },
      "execution_count": null,
      "outputs": [
        {
          "output_type": "stream",
          "name": "stdout",
          "text": [
            "Endereço do MLflow:  https://f04f-34-73-80-87.ngrok-free.app\n"
          ]
        }
      ]
    },
    {
      "cell_type": "code",
      "source": [
        "from mlflow import MlflowClient\n",
        "\n",
        "mlflow.set_tracking_uri(ngrok_tunel.public_url)\n",
        "\n",
        "client= MlflowClient()\n",
        "\n",
        "#Criação do Experimento\n",
        "exp_id = client.create_experiment(\n",
        "     name = \"exp_projeto_ciclo_2\",\n",
        "     tags = {\"versao\":\"v1\", \"prioridade\":\"P1\"}\n",
        " )\n",
        "\n",
        "#print('Experiment id', exp_id)"
      ],
      "metadata": {
        "id": "VxrFiMw8rN9x"
      },
      "execution_count": null,
      "outputs": []
    },
    {
      "cell_type": "markdown",
      "source": [
        "##Ranking das Melhores Acurácias"
      ],
      "metadata": {
        "id": "XtiDYOsj3YtU"
      }
    },
    {
      "cell_type": "code",
      "source": [
        "ranking = {}\n",
        "\n",
        "for model in models_names:\n",
        "  ranking[model] = models[model][\"metrics\"][\"accuracy\"]\n",
        "\n",
        "for model in forest_names:\n",
        "  ranking[model] = models_forest[model][\"metrics\"][\"accuracy\"]\n",
        "\n",
        "for model in bagging_names:\n",
        "  ranking[model] = models_bagging[model][\"metrics\"][\"accuracy\"]\n",
        "\n",
        "for model in models_names_new:\n",
        "  ranking[model] = models_new[model][\"metrics\"][\"accuracy\"]\n",
        "\n",
        "for model in forest_names_new:\n",
        "  ranking[model] = models_forest_new[model][\"metrics\"][\"accuracy\"]\n",
        "\n",
        "for model in bagging_names_new:\n",
        "  ranking[model] = models_bagging_new[model][\"metrics\"][\"accuracy\"]\n",
        "\n",
        "#pprint.pp(ranking)\n",
        "\n",
        "sort_ranking = list(ranking.values())\n",
        "sort_ranking.sort(reverse = True)\n",
        "\n",
        "#for value in sort_ranking:\n",
        "#  print(value)\n",
        "\n",
        "sort_ranking = sort_ranking[:3]\n",
        "\n",
        "pprint.pp(sort_ranking)\n"
      ],
      "metadata": {
        "colab": {
          "base_uri": "https://localhost:8080/"
        },
        "id": "iORjAM4jZKRC",
        "outputId": "e1633a93-1e16-4180-a82e-b0ff9a5090c8"
      },
      "execution_count": null,
      "outputs": [
        {
          "output_type": "stream",
          "name": "stdout",
          "text": [
            "[0.7470479838126896, 0.7443434744905333, 0.7369863178686709]\n"
          ]
        }
      ]
    },
    {
      "cell_type": "code",
      "source": [
        "from mlflow.models.signature import ModelSignature, infer_signature\n",
        "from mlflow.types.schema import Schema,ColSpec\n",
        "\n",
        "#Criação da assinatura\n",
        "def generate_signature(features):\n",
        "  input_data = []\n",
        "  for colum in features.columns:\n",
        "    input_data.append({\"name\" : colum, \"type\" : \"double\"})\n",
        "\n",
        "  output_data = [{\"name\" : \"remainder__Exited\", \"type\" : \"integer\"}]\n",
        "\n",
        "  input_schema = Schema([ColSpec(col[\"type\"], col['name']) for col in input_data])\n",
        "  output_schema = Schema([ColSpec(col['type'], col['name']) for col in output_data])\n",
        "\n",
        "  return ModelSignature(inputs=input_schema, outputs=output_schema)\n"
      ],
      "metadata": {
        "id": "BxzwC5-Yv-EX"
      },
      "execution_count": null,
      "outputs": []
    },
    {
      "cell_type": "code",
      "source": [
        "signature = generate_signature(X)\n",
        "signature_fselection = generate_signature(x)"
      ],
      "metadata": {
        "id": "zMuCHhbl0t1R"
      },
      "execution_count": null,
      "outputs": []
    },
    {
      "cell_type": "markdown",
      "source": [
        "##Envio dos Modelos e Registros dos Melhores Modelos"
      ],
      "metadata": {
        "id": "Y1GYzgx63vWv"
      }
    },
    {
      "cell_type": "code",
      "source": [
        "signed_models_names = []\n",
        "\n",
        "def from_dict_to_mlflow(models_dic, names_models, sig):\n",
        "\n",
        "  mlflow.end_run()\n",
        "\n",
        "  for model in names_models:\n",
        "\n",
        "    mlflow.start_run(run_name = model, experiment_id = exp_id)\n",
        "\n",
        "    mlflow.log_params(models_dic[model][\"params\"])\n",
        "\n",
        "    mlflow.log_metrics(models_dic[model][\"metrics\"])\n",
        "\n",
        "    #Log do modelo\n",
        "    if (models_dic[model][\"metrics\"][\"accuracy\"] in sort_ranking):\n",
        "      mlflow.sklearn.log_model(models_dic[model][\"model\"], artifact_path=model+\"-from_Project\", registered_model_name= model+\" - in Top 3\", signature=sig)\n",
        "      signed_models_names.append(model+\" - in Top 3\")\n",
        "    else:\n",
        "      mlflow.sklearn.log_model(models_dic[model][\"model\"], artifact_path=model+\"-from_Project\", signature=sig)\n",
        "\n",
        "    mlflow.end_run()"
      ],
      "metadata": {
        "id": "yp1nPlyT_x3m"
      },
      "execution_count": null,
      "outputs": []
    },
    {
      "cell_type": "code",
      "source": [
        "from_dict_to_mlflow(models, models_names, signature)"
      ],
      "metadata": {
        "colab": {
          "base_uri": "https://localhost:8080/"
        },
        "id": "W7vvG4USx350",
        "outputId": "f87616ae-64cd-4cbc-e45f-707808ba21af"
      },
      "execution_count": null,
      "outputs": [
        {
          "output_type": "stream",
          "name": "stderr",
          "text": [
            "Successfully registered model 'gradientboosting - in Top 3'.\n",
            "2024/06/07 00:05:00 INFO mlflow.store.model_registry.abstract_store: Waiting up to 300 seconds for model version to finish creation. Model name: gradientboosting - in Top 3, version 1\n",
            "Created version '1' of model 'gradientboosting - in Top 3'.\n"
          ]
        }
      ]
    },
    {
      "cell_type": "code",
      "source": [
        "from_dict_to_mlflow(models_forest, forest_names, signature)"
      ],
      "metadata": {
        "colab": {
          "base_uri": "https://localhost:8080/"
        },
        "id": "W_AtXwPu1MXL",
        "outputId": "1d80f5f9-3a85-41b5-991d-e60584b29f23"
      },
      "execution_count": null,
      "outputs": [
        {
          "output_type": "stream",
          "name": "stderr",
          "text": [
            "Successfully registered model 'randomforest - in Top 3'.\n",
            "2024/06/07 00:05:12 INFO mlflow.store.model_registry.abstract_store: Waiting up to 300 seconds for model version to finish creation. Model name: randomforest - in Top 3, version 1\n",
            "Created version '1' of model 'randomforest - in Top 3'.\n"
          ]
        }
      ]
    },
    {
      "cell_type": "code",
      "source": [
        "from_dict_to_mlflow(models_bagging, bagging_names, signature)"
      ],
      "metadata": {
        "id": "Wj4VgDKF1vPm"
      },
      "execution_count": null,
      "outputs": []
    },
    {
      "cell_type": "code",
      "source": [
        "from_dict_to_mlflow(models_new, models_names_new, signature_fselection)"
      ],
      "metadata": {
        "colab": {
          "base_uri": "https://localhost:8080/"
        },
        "id": "yT_wHuqZx7uP",
        "outputId": "d32bcf84-6bbb-4aad-fd58-c8bab3af7edb"
      },
      "execution_count": null,
      "outputs": [
        {
          "output_type": "stream",
          "name": "stderr",
          "text": [
            "Successfully registered model 'gradientboosting_fselection - in Top 3'.\n",
            "2024/06/07 00:06:34 INFO mlflow.store.model_registry.abstract_store: Waiting up to 300 seconds for model version to finish creation. Model name: gradientboosting_fselection - in Top 3, version 1\n",
            "Created version '1' of model 'gradientboosting_fselection - in Top 3'.\n"
          ]
        }
      ]
    },
    {
      "cell_type": "code",
      "source": [
        "from_dict_to_mlflow(models_forest_new, forest_names_new, signature_fselection)"
      ],
      "metadata": {
        "id": "Qp6_lruT2OPf"
      },
      "execution_count": null,
      "outputs": []
    },
    {
      "cell_type": "code",
      "source": [
        "from_dict_to_mlflow(models_bagging_new, bagging_names_new, signature_fselection)"
      ],
      "metadata": {
        "id": "NuhZDSE32pAa"
      },
      "execution_count": null,
      "outputs": []
    },
    {
      "cell_type": "markdown",
      "source": [
        "##Usando o Client Para Carregar os Modelos Registrados"
      ],
      "metadata": {
        "id": "OwFbMHP84OAA"
      }
    },
    {
      "cell_type": "code",
      "source": [
        "####### Alteração da descrição das versões dos modelos registrados\n",
        "for name_model in signed_models_names:\n",
        "  client.update_model_version(\n",
        "    name = name_model,\n",
        "    version=\"1\",\n",
        "    description=\"Esse modelo faz parte do Top 3 dos modelos com as melhores acurácias\",\n",
        ")"
      ],
      "metadata": {
        "id": "Wfvrn-g6Ozp-"
      },
      "execution_count": null,
      "outputs": []
    },
    {
      "cell_type": "code",
      "source": [
        "#Código da documentação do MLFlow para capturar os models registrados juntamente com as respectivas informações\n",
        "\n",
        "response = client.search_registered_models()\n",
        "\n",
        "for res in response:\n",
        "    for mv in res.latest_versions:\n",
        "        print(f\"name = {mv.name}; run_id = {mv.run_id}; version = {mv.version}\")\n",
        "        print(f\"  Description = {mv.description}\")\n",
        "        print(f\"  Source = \", mv.source)\n",
        "        print(\"\")"
      ],
      "metadata": {
        "colab": {
          "base_uri": "https://localhost:8080/"
        },
        "id": "CpxVHi9ZTm8a",
        "outputId": "059de200-b23c-426f-a26c-70351f0045ff"
      },
      "execution_count": null,
      "outputs": [
        {
          "output_type": "stream",
          "name": "stdout",
          "text": [
            "name = gradientboosting - in Top 3; run_id = a3f44ac387fe4b558080e784ad69c6d0; version = 1\n",
            "  Description = Esse modelo faz parte do Top 3 dos modelos com as melhores acurácias\n",
            "  Source =  mlflow-artifacts:/397491281902116845/a3f44ac387fe4b558080e784ad69c6d0/artifacts/gradientboosting-from_Project\n",
            "\n",
            "name = gradientboosting_fselection - in Top 3; run_id = f5f05c831b814bd58cb1055a2a4f0aa2; version = 1\n",
            "  Description = Esse modelo faz parte do Top 3 dos modelos com as melhores acurácias\n",
            "  Source =  mlflow-artifacts:/397491281902116845/f5f05c831b814bd58cb1055a2a4f0aa2/artifacts/gradientboosting_fselection-from_Project\n",
            "\n",
            "name = randomforest - in Top 3; run_id = 4e002e4cdefa4f3caad6d706110eb584; version = 1\n",
            "  Description = Esse modelo faz parte do Top 3 dos modelos com as melhores acurácias\n",
            "  Source =  mlflow-artifacts:/397491281902116845/4e002e4cdefa4f3caad6d706110eb584/artifacts/randomforest-from_Project\n",
            "\n"
          ]
        }
      ]
    },
    {
      "cell_type": "code",
      "source": [
        "## EXEMPLO DE CARREGAMENTO DO MODELO\n",
        "modelNEW = mlflow.sklearn.load_model(model_uri=\"models:/\"+signed_models_names[0]+\"/1\")\n",
        "modelNEW.get_params()\n",
        "\n",
        "#loaded_models = []\n",
        "#for name in signed_modelss_names:\n",
        "# loaded_models.append(mlflow.sklearn.load_model(model_uri=\"models:/\"+name+\"/1\"))"
      ],
      "metadata": {
        "colab": {
          "base_uri": "https://localhost:8080/",
          "height": 396,
          "referenced_widgets": [
            "6144a35ca52f49aebf06f3b27c712e33",
            "de276e9bd42f49bba05ff56fcaf13a48",
            "a9ccea959ebf4b688eb8db82ff1a142d",
            "7261a2928e7e456188f8f1095eac07b6",
            "12bc056641014363985c8464e59ae985",
            "93ee01ec5df74b4782c39d739b2a0b52",
            "5bf11d8e959b4cd7b77b498482f45e31",
            "3c30068d02154bbc869f3961a3049b96",
            "615e36b2235c492183bff34f12ae0773",
            "dcb73b0f3c384f9bb2ff40764bd2aa8f",
            "97718ae54e17417a918eb7619d646692"
          ]
        },
        "id": "p8uxCvbA_f-i",
        "outputId": "24f9d261-2558-401c-9718-d0002e3b4aa7"
      },
      "execution_count": null,
      "outputs": [
        {
          "output_type": "display_data",
          "data": {
            "text/plain": [
              "Downloading artifacts:   0%|          | 0/9 [00:00<?, ?it/s]"
            ],
            "application/vnd.jupyter.widget-view+json": {
              "version_major": 2,
              "version_minor": 0,
              "model_id": "6144a35ca52f49aebf06f3b27c712e33"
            }
          },
          "metadata": {}
        },
        {
          "output_type": "execute_result",
          "data": {
            "text/plain": [
              "{'ccp_alpha': 0.0,\n",
              " 'criterion': 'friedman_mse',\n",
              " 'init': None,\n",
              " 'learning_rate': 0.1,\n",
              " 'loss': 'log_loss',\n",
              " 'max_depth': 3,\n",
              " 'max_features': None,\n",
              " 'max_leaf_nodes': None,\n",
              " 'min_impurity_decrease': 0.0,\n",
              " 'min_samples_leaf': 1,\n",
              " 'min_samples_split': 2,\n",
              " 'min_weight_fraction_leaf': 0.0,\n",
              " 'n_estimators': 50,\n",
              " 'n_iter_no_change': None,\n",
              " 'random_state': None,\n",
              " 'subsample': 1.0,\n",
              " 'tol': 0.0001,\n",
              " 'validation_fraction': 0.1,\n",
              " 'verbose': 0,\n",
              " 'warm_start': False}"
            ]
          },
          "metadata": {},
          "execution_count": 46
        }
      ]
    }
  ]
}